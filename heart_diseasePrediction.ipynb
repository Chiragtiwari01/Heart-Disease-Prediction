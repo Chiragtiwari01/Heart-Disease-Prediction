{
 "cells": [
  {
   "cell_type": "code",
   "execution_count": 74,
   "id": "ca8713dd",
   "metadata": {},
   "outputs": [
    {
     "name": "stdout",
     "output_type": "stream",
     "text": [
      "['.ipynb_checkpoints', 'heart.csv', 'Heart_disease_prediction.ipynb', 'README.md', 'Untitled.ipynb']\n"
     ]
    }
   ],
   "source": [
    "import numpy as np\n",
    "import pandas as pd\n",
    "import matplotlib.pyplot as plt\n",
    "import seaborn as sns\n",
    "\n",
    "%matplotlib inline\n",
    "\n",
    "import os\n",
    "print(os.listdir())\n",
    "\n",
    "import warnings\n",
    "warnings.filterwarnings('ignore')"
   ]
  },
  {
   "cell_type": "code",
   "execution_count": 75,
   "id": "513ab83f",
   "metadata": {},
   "outputs": [],
   "source": [
    "ds = pd.read_csv(\"heart.csv\")\n"
   ]
  },
  {
   "cell_type": "code",
   "execution_count": 76,
   "id": "f39e16fb",
   "metadata": {},
   "outputs": [
    {
     "data": {
      "text/plain": [
       "pandas.core.frame.DataFrame"
      ]
     },
     "execution_count": 76,
     "metadata": {},
     "output_type": "execute_result"
    }
   ],
   "source": [
    "type(ds)\n"
   ]
  },
  {
   "cell_type": "code",
   "execution_count": 77,
   "id": "911b5577",
   "metadata": {},
   "outputs": [
    {
     "data": {
      "text/plain": [
       "(303, 14)"
      ]
     },
     "execution_count": 77,
     "metadata": {},
     "output_type": "execute_result"
    }
   ],
   "source": [
    "ds.shape\n"
   ]
  },
  {
   "cell_type": "code",
   "execution_count": 78,
   "id": "974e5077",
   "metadata": {},
   "outputs": [
    {
     "data": {
      "text/html": [
       "<div>\n",
       "<style scoped>\n",
       "    .dataframe tbody tr th:only-of-type {\n",
       "        vertical-align: middle;\n",
       "    }\n",
       "\n",
       "    .dataframe tbody tr th {\n",
       "        vertical-align: top;\n",
       "    }\n",
       "\n",
       "    .dataframe thead th {\n",
       "        text-align: right;\n",
       "    }\n",
       "</style>\n",
       "<table border=\"1\" class=\"dataframe\">\n",
       "  <thead>\n",
       "    <tr style=\"text-align: right;\">\n",
       "      <th></th>\n",
       "      <th>age</th>\n",
       "      <th>sex</th>\n",
       "      <th>cp</th>\n",
       "      <th>trestbps</th>\n",
       "      <th>chol</th>\n",
       "      <th>fbs</th>\n",
       "      <th>restecg</th>\n",
       "      <th>thalach</th>\n",
       "      <th>exang</th>\n",
       "      <th>oldpeak</th>\n",
       "      <th>slope</th>\n",
       "      <th>ca</th>\n",
       "      <th>thal</th>\n",
       "      <th>target</th>\n",
       "    </tr>\n",
       "  </thead>\n",
       "  <tbody>\n",
       "    <tr>\n",
       "      <th>0</th>\n",
       "      <td>63</td>\n",
       "      <td>1</td>\n",
       "      <td>3</td>\n",
       "      <td>145</td>\n",
       "      <td>233</td>\n",
       "      <td>1</td>\n",
       "      <td>0</td>\n",
       "      <td>150</td>\n",
       "      <td>0</td>\n",
       "      <td>2.3</td>\n",
       "      <td>0</td>\n",
       "      <td>0</td>\n",
       "      <td>1</td>\n",
       "      <td>1</td>\n",
       "    </tr>\n",
       "    <tr>\n",
       "      <th>1</th>\n",
       "      <td>37</td>\n",
       "      <td>1</td>\n",
       "      <td>2</td>\n",
       "      <td>130</td>\n",
       "      <td>250</td>\n",
       "      <td>0</td>\n",
       "      <td>1</td>\n",
       "      <td>187</td>\n",
       "      <td>0</td>\n",
       "      <td>3.5</td>\n",
       "      <td>0</td>\n",
       "      <td>0</td>\n",
       "      <td>2</td>\n",
       "      <td>1</td>\n",
       "    </tr>\n",
       "    <tr>\n",
       "      <th>2</th>\n",
       "      <td>41</td>\n",
       "      <td>0</td>\n",
       "      <td>1</td>\n",
       "      <td>130</td>\n",
       "      <td>204</td>\n",
       "      <td>0</td>\n",
       "      <td>0</td>\n",
       "      <td>172</td>\n",
       "      <td>0</td>\n",
       "      <td>1.4</td>\n",
       "      <td>2</td>\n",
       "      <td>0</td>\n",
       "      <td>2</td>\n",
       "      <td>1</td>\n",
       "    </tr>\n",
       "    <tr>\n",
       "      <th>3</th>\n",
       "      <td>56</td>\n",
       "      <td>1</td>\n",
       "      <td>1</td>\n",
       "      <td>120</td>\n",
       "      <td>236</td>\n",
       "      <td>0</td>\n",
       "      <td>1</td>\n",
       "      <td>178</td>\n",
       "      <td>0</td>\n",
       "      <td>0.8</td>\n",
       "      <td>2</td>\n",
       "      <td>0</td>\n",
       "      <td>2</td>\n",
       "      <td>1</td>\n",
       "    </tr>\n",
       "    <tr>\n",
       "      <th>4</th>\n",
       "      <td>57</td>\n",
       "      <td>0</td>\n",
       "      <td>0</td>\n",
       "      <td>120</td>\n",
       "      <td>354</td>\n",
       "      <td>0</td>\n",
       "      <td>1</td>\n",
       "      <td>163</td>\n",
       "      <td>1</td>\n",
       "      <td>0.6</td>\n",
       "      <td>2</td>\n",
       "      <td>0</td>\n",
       "      <td>2</td>\n",
       "      <td>1</td>\n",
       "    </tr>\n",
       "  </tbody>\n",
       "</table>\n",
       "</div>"
      ],
      "text/plain": [
       "   age  sex  cp  trestbps  chol  fbs  restecg  thalach  exang  oldpeak  slope  \\\n",
       "0   63    1   3       145   233    1        0      150      0      2.3      0   \n",
       "1   37    1   2       130   250    0        1      187      0      3.5      0   \n",
       "2   41    0   1       130   204    0        0      172      0      1.4      2   \n",
       "3   56    1   1       120   236    0        1      178      0      0.8      2   \n",
       "4   57    0   0       120   354    0        1      163      1      0.6      2   \n",
       "\n",
       "   ca  thal  target  \n",
       "0   0     1       1  \n",
       "1   0     2       1  \n",
       "2   0     2       1  \n",
       "3   0     2       1  \n",
       "4   0     2       1  "
      ]
     },
     "execution_count": 78,
     "metadata": {},
     "output_type": "execute_result"
    }
   ],
   "source": [
    "ds.head(5)\n"
   ]
  },
  {
   "cell_type": "code",
   "execution_count": 79,
   "id": "f6c6ac2b",
   "metadata": {},
   "outputs": [
    {
     "data": {
      "text/html": [
       "<div>\n",
       "<style scoped>\n",
       "    .dataframe tbody tr th:only-of-type {\n",
       "        vertical-align: middle;\n",
       "    }\n",
       "\n",
       "    .dataframe tbody tr th {\n",
       "        vertical-align: top;\n",
       "    }\n",
       "\n",
       "    .dataframe thead th {\n",
       "        text-align: right;\n",
       "    }\n",
       "</style>\n",
       "<table border=\"1\" class=\"dataframe\">\n",
       "  <thead>\n",
       "    <tr style=\"text-align: right;\">\n",
       "      <th></th>\n",
       "      <th>age</th>\n",
       "      <th>sex</th>\n",
       "      <th>cp</th>\n",
       "      <th>trestbps</th>\n",
       "      <th>chol</th>\n",
       "      <th>fbs</th>\n",
       "      <th>restecg</th>\n",
       "      <th>thalach</th>\n",
       "      <th>exang</th>\n",
       "      <th>oldpeak</th>\n",
       "      <th>slope</th>\n",
       "      <th>ca</th>\n",
       "      <th>thal</th>\n",
       "      <th>target</th>\n",
       "    </tr>\n",
       "  </thead>\n",
       "  <tbody>\n",
       "    <tr>\n",
       "      <th>97</th>\n",
       "      <td>52</td>\n",
       "      <td>1</td>\n",
       "      <td>0</td>\n",
       "      <td>108</td>\n",
       "      <td>233</td>\n",
       "      <td>1</td>\n",
       "      <td>1</td>\n",
       "      <td>147</td>\n",
       "      <td>0</td>\n",
       "      <td>0.1</td>\n",
       "      <td>2</td>\n",
       "      <td>3</td>\n",
       "      <td>3</td>\n",
       "      <td>1</td>\n",
       "    </tr>\n",
       "    <tr>\n",
       "      <th>157</th>\n",
       "      <td>35</td>\n",
       "      <td>1</td>\n",
       "      <td>1</td>\n",
       "      <td>122</td>\n",
       "      <td>192</td>\n",
       "      <td>0</td>\n",
       "      <td>1</td>\n",
       "      <td>174</td>\n",
       "      <td>0</td>\n",
       "      <td>0.0</td>\n",
       "      <td>2</td>\n",
       "      <td>0</td>\n",
       "      <td>2</td>\n",
       "      <td>1</td>\n",
       "    </tr>\n",
       "    <tr>\n",
       "      <th>70</th>\n",
       "      <td>54</td>\n",
       "      <td>1</td>\n",
       "      <td>2</td>\n",
       "      <td>120</td>\n",
       "      <td>258</td>\n",
       "      <td>0</td>\n",
       "      <td>0</td>\n",
       "      <td>147</td>\n",
       "      <td>0</td>\n",
       "      <td>0.4</td>\n",
       "      <td>1</td>\n",
       "      <td>0</td>\n",
       "      <td>3</td>\n",
       "      <td>1</td>\n",
       "    </tr>\n",
       "    <tr>\n",
       "      <th>155</th>\n",
       "      <td>58</td>\n",
       "      <td>0</td>\n",
       "      <td>0</td>\n",
       "      <td>130</td>\n",
       "      <td>197</td>\n",
       "      <td>0</td>\n",
       "      <td>1</td>\n",
       "      <td>131</td>\n",
       "      <td>0</td>\n",
       "      <td>0.6</td>\n",
       "      <td>1</td>\n",
       "      <td>0</td>\n",
       "      <td>2</td>\n",
       "      <td>1</td>\n",
       "    </tr>\n",
       "    <tr>\n",
       "      <th>142</th>\n",
       "      <td>42</td>\n",
       "      <td>0</td>\n",
       "      <td>2</td>\n",
       "      <td>120</td>\n",
       "      <td>209</td>\n",
       "      <td>0</td>\n",
       "      <td>1</td>\n",
       "      <td>173</td>\n",
       "      <td>0</td>\n",
       "      <td>0.0</td>\n",
       "      <td>1</td>\n",
       "      <td>0</td>\n",
       "      <td>2</td>\n",
       "      <td>1</td>\n",
       "    </tr>\n",
       "  </tbody>\n",
       "</table>\n",
       "</div>"
      ],
      "text/plain": [
       "     age  sex  cp  trestbps  chol  fbs  restecg  thalach  exang  oldpeak  \\\n",
       "97    52    1   0       108   233    1        1      147      0      0.1   \n",
       "157   35    1   1       122   192    0        1      174      0      0.0   \n",
       "70    54    1   2       120   258    0        0      147      0      0.4   \n",
       "155   58    0   0       130   197    0        1      131      0      0.6   \n",
       "142   42    0   2       120   209    0        1      173      0      0.0   \n",
       "\n",
       "     slope  ca  thal  target  \n",
       "97       2   3     3       1  \n",
       "157      2   0     2       1  \n",
       "70       1   0     3       1  \n",
       "155      1   0     2       1  \n",
       "142      1   0     2       1  "
      ]
     },
     "execution_count": 79,
     "metadata": {},
     "output_type": "execute_result"
    }
   ],
   "source": [
    "ds.sample(5)\n"
   ]
  },
  {
   "cell_type": "code",
   "execution_count": 80,
   "id": "bb456921",
   "metadata": {},
   "outputs": [
    {
     "data": {
      "text/html": [
       "<div>\n",
       "<style scoped>\n",
       "    .dataframe tbody tr th:only-of-type {\n",
       "        vertical-align: middle;\n",
       "    }\n",
       "\n",
       "    .dataframe tbody tr th {\n",
       "        vertical-align: top;\n",
       "    }\n",
       "\n",
       "    .dataframe thead th {\n",
       "        text-align: right;\n",
       "    }\n",
       "</style>\n",
       "<table border=\"1\" class=\"dataframe\">\n",
       "  <thead>\n",
       "    <tr style=\"text-align: right;\">\n",
       "      <th></th>\n",
       "      <th>age</th>\n",
       "      <th>sex</th>\n",
       "      <th>cp</th>\n",
       "      <th>trestbps</th>\n",
       "      <th>chol</th>\n",
       "      <th>fbs</th>\n",
       "      <th>restecg</th>\n",
       "      <th>thalach</th>\n",
       "      <th>exang</th>\n",
       "      <th>oldpeak</th>\n",
       "      <th>slope</th>\n",
       "      <th>ca</th>\n",
       "      <th>thal</th>\n",
       "      <th>target</th>\n",
       "    </tr>\n",
       "  </thead>\n",
       "  <tbody>\n",
       "    <tr>\n",
       "      <th>count</th>\n",
       "      <td>303.000000</td>\n",
       "      <td>303.000000</td>\n",
       "      <td>303.000000</td>\n",
       "      <td>303.000000</td>\n",
       "      <td>303.000000</td>\n",
       "      <td>303.000000</td>\n",
       "      <td>303.000000</td>\n",
       "      <td>303.000000</td>\n",
       "      <td>303.000000</td>\n",
       "      <td>303.000000</td>\n",
       "      <td>303.000000</td>\n",
       "      <td>303.000000</td>\n",
       "      <td>303.000000</td>\n",
       "      <td>303.000000</td>\n",
       "    </tr>\n",
       "    <tr>\n",
       "      <th>mean</th>\n",
       "      <td>54.366337</td>\n",
       "      <td>0.683168</td>\n",
       "      <td>0.966997</td>\n",
       "      <td>131.623762</td>\n",
       "      <td>246.264026</td>\n",
       "      <td>0.148515</td>\n",
       "      <td>0.528053</td>\n",
       "      <td>149.646865</td>\n",
       "      <td>0.326733</td>\n",
       "      <td>1.039604</td>\n",
       "      <td>1.399340</td>\n",
       "      <td>0.729373</td>\n",
       "      <td>2.313531</td>\n",
       "      <td>0.544554</td>\n",
       "    </tr>\n",
       "    <tr>\n",
       "      <th>std</th>\n",
       "      <td>9.082101</td>\n",
       "      <td>0.466011</td>\n",
       "      <td>1.032052</td>\n",
       "      <td>17.538143</td>\n",
       "      <td>51.830751</td>\n",
       "      <td>0.356198</td>\n",
       "      <td>0.525860</td>\n",
       "      <td>22.905161</td>\n",
       "      <td>0.469794</td>\n",
       "      <td>1.161075</td>\n",
       "      <td>0.616226</td>\n",
       "      <td>1.022606</td>\n",
       "      <td>0.612277</td>\n",
       "      <td>0.498835</td>\n",
       "    </tr>\n",
       "    <tr>\n",
       "      <th>min</th>\n",
       "      <td>29.000000</td>\n",
       "      <td>0.000000</td>\n",
       "      <td>0.000000</td>\n",
       "      <td>94.000000</td>\n",
       "      <td>126.000000</td>\n",
       "      <td>0.000000</td>\n",
       "      <td>0.000000</td>\n",
       "      <td>71.000000</td>\n",
       "      <td>0.000000</td>\n",
       "      <td>0.000000</td>\n",
       "      <td>0.000000</td>\n",
       "      <td>0.000000</td>\n",
       "      <td>0.000000</td>\n",
       "      <td>0.000000</td>\n",
       "    </tr>\n",
       "    <tr>\n",
       "      <th>25%</th>\n",
       "      <td>47.500000</td>\n",
       "      <td>0.000000</td>\n",
       "      <td>0.000000</td>\n",
       "      <td>120.000000</td>\n",
       "      <td>211.000000</td>\n",
       "      <td>0.000000</td>\n",
       "      <td>0.000000</td>\n",
       "      <td>133.500000</td>\n",
       "      <td>0.000000</td>\n",
       "      <td>0.000000</td>\n",
       "      <td>1.000000</td>\n",
       "      <td>0.000000</td>\n",
       "      <td>2.000000</td>\n",
       "      <td>0.000000</td>\n",
       "    </tr>\n",
       "    <tr>\n",
       "      <th>50%</th>\n",
       "      <td>55.000000</td>\n",
       "      <td>1.000000</td>\n",
       "      <td>1.000000</td>\n",
       "      <td>130.000000</td>\n",
       "      <td>240.000000</td>\n",
       "      <td>0.000000</td>\n",
       "      <td>1.000000</td>\n",
       "      <td>153.000000</td>\n",
       "      <td>0.000000</td>\n",
       "      <td>0.800000</td>\n",
       "      <td>1.000000</td>\n",
       "      <td>0.000000</td>\n",
       "      <td>2.000000</td>\n",
       "      <td>1.000000</td>\n",
       "    </tr>\n",
       "    <tr>\n",
       "      <th>75%</th>\n",
       "      <td>61.000000</td>\n",
       "      <td>1.000000</td>\n",
       "      <td>2.000000</td>\n",
       "      <td>140.000000</td>\n",
       "      <td>274.500000</td>\n",
       "      <td>0.000000</td>\n",
       "      <td>1.000000</td>\n",
       "      <td>166.000000</td>\n",
       "      <td>1.000000</td>\n",
       "      <td>1.600000</td>\n",
       "      <td>2.000000</td>\n",
       "      <td>1.000000</td>\n",
       "      <td>3.000000</td>\n",
       "      <td>1.000000</td>\n",
       "    </tr>\n",
       "    <tr>\n",
       "      <th>max</th>\n",
       "      <td>77.000000</td>\n",
       "      <td>1.000000</td>\n",
       "      <td>3.000000</td>\n",
       "      <td>200.000000</td>\n",
       "      <td>564.000000</td>\n",
       "      <td>1.000000</td>\n",
       "      <td>2.000000</td>\n",
       "      <td>202.000000</td>\n",
       "      <td>1.000000</td>\n",
       "      <td>6.200000</td>\n",
       "      <td>2.000000</td>\n",
       "      <td>4.000000</td>\n",
       "      <td>3.000000</td>\n",
       "      <td>1.000000</td>\n",
       "    </tr>\n",
       "  </tbody>\n",
       "</table>\n",
       "</div>"
      ],
      "text/plain": [
       "              age         sex          cp    trestbps        chol         fbs  \\\n",
       "count  303.000000  303.000000  303.000000  303.000000  303.000000  303.000000   \n",
       "mean    54.366337    0.683168    0.966997  131.623762  246.264026    0.148515   \n",
       "std      9.082101    0.466011    1.032052   17.538143   51.830751    0.356198   \n",
       "min     29.000000    0.000000    0.000000   94.000000  126.000000    0.000000   \n",
       "25%     47.500000    0.000000    0.000000  120.000000  211.000000    0.000000   \n",
       "50%     55.000000    1.000000    1.000000  130.000000  240.000000    0.000000   \n",
       "75%     61.000000    1.000000    2.000000  140.000000  274.500000    0.000000   \n",
       "max     77.000000    1.000000    3.000000  200.000000  564.000000    1.000000   \n",
       "\n",
       "          restecg     thalach       exang     oldpeak       slope          ca  \\\n",
       "count  303.000000  303.000000  303.000000  303.000000  303.000000  303.000000   \n",
       "mean     0.528053  149.646865    0.326733    1.039604    1.399340    0.729373   \n",
       "std      0.525860   22.905161    0.469794    1.161075    0.616226    1.022606   \n",
       "min      0.000000   71.000000    0.000000    0.000000    0.000000    0.000000   \n",
       "25%      0.000000  133.500000    0.000000    0.000000    1.000000    0.000000   \n",
       "50%      1.000000  153.000000    0.000000    0.800000    1.000000    0.000000   \n",
       "75%      1.000000  166.000000    1.000000    1.600000    2.000000    1.000000   \n",
       "max      2.000000  202.000000    1.000000    6.200000    2.000000    4.000000   \n",
       "\n",
       "             thal      target  \n",
       "count  303.000000  303.000000  \n",
       "mean     2.313531    0.544554  \n",
       "std      0.612277    0.498835  \n",
       "min      0.000000    0.000000  \n",
       "25%      2.000000    0.000000  \n",
       "50%      2.000000    1.000000  \n",
       "75%      3.000000    1.000000  \n",
       "max      3.000000    1.000000  "
      ]
     },
     "execution_count": 80,
     "metadata": {},
     "output_type": "execute_result"
    }
   ],
   "source": [
    "ds.describe()\n"
   ]
  },
  {
   "cell_type": "code",
   "execution_count": 81,
   "id": "d58c6231",
   "metadata": {},
   "outputs": [
    {
     "name": "stdout",
     "output_type": "stream",
     "text": [
      "<class 'pandas.core.frame.DataFrame'>\n",
      "RangeIndex: 303 entries, 0 to 302\n",
      "Data columns (total 14 columns):\n",
      " #   Column    Non-Null Count  Dtype  \n",
      "---  ------    --------------  -----  \n",
      " 0   age       303 non-null    int64  \n",
      " 1   sex       303 non-null    int64  \n",
      " 2   cp        303 non-null    int64  \n",
      " 3   trestbps  303 non-null    int64  \n",
      " 4   chol      303 non-null    int64  \n",
      " 5   fbs       303 non-null    int64  \n",
      " 6   restecg   303 non-null    int64  \n",
      " 7   thalach   303 non-null    int64  \n",
      " 8   exang     303 non-null    int64  \n",
      " 9   oldpeak   303 non-null    float64\n",
      " 10  slope     303 non-null    int64  \n",
      " 11  ca        303 non-null    int64  \n",
      " 12  thal      303 non-null    int64  \n",
      " 13  target    303 non-null    int64  \n",
      "dtypes: float64(1), int64(13)\n",
      "memory usage: 33.3 KB\n"
     ]
    }
   ],
   "source": [
    "ds.info()\n"
   ]
  },
  {
   "cell_type": "code",
   "execution_count": 82,
   "id": "7d4bc801",
   "metadata": {},
   "outputs": [
    {
     "name": "stdout",
     "output_type": "stream",
     "text": [
      "age:\t\t\tage\n",
      "sex:\t\t\t1: male, 0: female\n",
      "cp:\t\t\tchest pain type, 1: typical angina, 2: atypical angina, 3: non-anginal pain, 4: asymptomatic\n",
      "trestbps:\t\t\tresting blood pressure\n",
      "chol:\t\t\t serum cholestoral in mg/dl\n",
      "fbs:\t\t\tfasting blood sugar > 120 mg/dl\n",
      "restecg:\t\t\tresting electrocardiographic results (values 0,1,2)\n",
      "thalach:\t\t\t maximum heart rate achieved\n",
      "exang:\t\t\texercise induced angina\n",
      "oldpeak:\t\t\toldpeak = ST depression induced by exercise relative to rest\n",
      "slope:\t\t\tthe slope of the peak exercise ST segment\n",
      "ca:\t\t\tnumber of major vessels (0-3) colored by flourosopy\n",
      "thal:\t\t\tthal: 3 = normal; 6 = fixed defect; 7 = reversable defect\n"
     ]
    }
   ],
   "source": [
    "info = [\"age\",\"1: male, 0: female\",\"chest pain type, 1: typical angina, 2: atypical angina, 3: non-anginal pain, 4: asymptomatic\",\"resting blood pressure\",\" serum cholestoral in mg/dl\",\"fasting blood sugar > 120 mg/dl\",\"resting electrocardiographic results (values 0,1,2)\",\" maximum heart rate achieved\",\"exercise induced angina\",\"oldpeak = ST depression induced by exercise relative to rest\",\"the slope of the peak exercise ST segment\",\"number of major vessels (0-3) colored by flourosopy\",\"thal: 3 = normal; 6 = fixed defect; 7 = reversable defect\"]\n",
    "\n",
    "\n",
    "\n",
    "for i in range(len(info)):\n",
    "    print(ds.columns[i]+\":\\t\\t\\t\"+info[i])"
   ]
  },
  {
   "cell_type": "code",
   "execution_count": 83,
   "id": "c73ebbf9",
   "metadata": {},
   "outputs": [
    {
     "data": {
      "text/plain": [
       "count    303.000000\n",
       "mean       0.544554\n",
       "std        0.498835\n",
       "min        0.000000\n",
       "25%        0.000000\n",
       "50%        1.000000\n",
       "75%        1.000000\n",
       "max        1.000000\n",
       "Name: target, dtype: float64"
      ]
     },
     "execution_count": 83,
     "metadata": {},
     "output_type": "execute_result"
    }
   ],
   "source": [
    "ds[\"target\"].describe()\n"
   ]
  },
  {
   "cell_type": "code",
   "execution_count": 84,
   "id": "c68908e1",
   "metadata": {},
   "outputs": [
    {
     "data": {
      "text/plain": [
       "array([1, 0], dtype=int64)"
      ]
     },
     "execution_count": 84,
     "metadata": {},
     "output_type": "execute_result"
    }
   ],
   "source": [
    "ds[\"target\"].unique()\n"
   ]
  },
  {
   "cell_type": "code",
   "execution_count": 85,
   "id": "1bf2db61",
   "metadata": {},
   "outputs": [
    {
     "name": "stdout",
     "output_type": "stream",
     "text": [
      "target      1.000000\n",
      "exang       0.436757\n",
      "cp          0.433798\n",
      "oldpeak     0.430696\n",
      "thalach     0.421741\n",
      "ca          0.391724\n",
      "slope       0.345877\n",
      "thal        0.344029\n",
      "sex         0.280937\n",
      "age         0.225439\n",
      "trestbps    0.144931\n",
      "restecg     0.137230\n",
      "chol        0.085239\n",
      "fbs         0.028046\n",
      "Name: target, dtype: float64\n"
     ]
    }
   ],
   "source": [
    "print(ds.corr()[\"target\"].abs().sort_values(ascending=False))\n"
   ]
  },
  {
   "cell_type": "code",
   "execution_count": 86,
   "id": "7afe683a",
   "metadata": {},
   "outputs": [
    {
     "name": "stdout",
     "output_type": "stream",
     "text": [
      "1    165\n",
      "0    138\n",
      "Name: target, dtype: int64\n"
     ]
    },
    {
     "data": {
      "image/png": "[encoded data removed]",
      "text/plain": [
       "<Figure size 1500x800 with 1 Axes>"
      ]
     },
     "metadata": {},
     "output_type": "display_data"
    }
   ],
   "source": [
    "y = dataset[\"target\"]\n",
    "\n",
    "sns.countplot(y)\n",
    "\n",
    "\n",
    "target_temp = ds.target.value_counts()\n",
    "\n",
    "print(target_temp)"
   ]
  },
  {
   "cell_type": "code",
   "execution_count": 87,
   "id": "095a35cb",
   "metadata": {},
   "outputs": [
    {
     "name": "stdout",
     "output_type": "stream",
     "text": [
      "Percentage of patience without heart problems: 45.54\n",
      "Percentage of patience with heart problems: 54.46\n"
     ]
    }
   ],
   "source": [
    "print(\"Percentage of patience without heart problems: \"+str(round(target_temp[0]*100/303,2)))\n",
    "print(\"Percentage of patience with heart problems: \"+str(round(target_temp[1]*100/303,2)))"
   ]
  },
  {
   "cell_type": "code",
   "execution_count": 88,
   "id": "93471d99",
   "metadata": {},
   "outputs": [
    {
     "data": {
      "text/plain": [
       "array([1, 0], dtype=int64)"
      ]
     },
     "execution_count": 88,
     "metadata": {},
     "output_type": "execute_result"
    }
   ],
   "source": [
    "ds[\"sex\"].unique()\n"
   ]
  },
  {
   "cell_type": "code",
   "execution_count": 89,
   "id": "86d9f973",
   "metadata": {},
   "outputs": [
    {
     "data": {
      "text/plain": [
       "<AxesSubplot:xlabel='sex', ylabel='target'>"
      ]
     },
     "execution_count": 89,
     "metadata": {},
     "output_type": "execute_result"
    },
    {
     "data": {
      "image/png": "[encoded data removed]",
      "text/plain": [
       "<Figure size 1500x800 with 1 Axes>"
      ]
     },
     "metadata": {},
     "output_type": "display_data"
    }
   ],
   "source": [
    "sns.barplot(ds[\"sex\"],y)\n"
   ]
  },
  {
   "cell_type": "code",
   "execution_count": 90,
   "id": "55c57e47",
   "metadata": {},
   "outputs": [
    {
     "ename": "KeyError",
     "evalue": "'c_p'",
     "output_type": "error",
     "traceback": [
      "\u001b[1;31m---------------------------------------------------------------------------\u001b[0m",
      "\u001b[1;31mKeyError\u001b[0m                                  Traceback (most recent call last)",
      "\u001b[1;32m~\\anaconda3\\lib\\site-packages\\pandas\\core\\indexes\\base.py\u001b[0m in \u001b[0;36mget_loc\u001b[1;34m(self, key, method, tolerance)\u001b[0m\n\u001b[0;32m   3628\u001b[0m             \u001b[1;32mtry\u001b[0m\u001b[1;33m:\u001b[0m\u001b[1;33m\u001b[0m\u001b[1;33m\u001b[0m\u001b[0m\n\u001b[1;32m-> 3629\u001b[1;33m                 \u001b[1;32mreturn\u001b[0m \u001b[0mself\u001b[0m\u001b[1;33m.\u001b[0m\u001b[0m_engine\u001b[0m\u001b[1;33m.\u001b[0m\u001b[0mget_loc\u001b[0m\u001b[1;33m(\u001b[0m\u001b[0mcasted_key\u001b[0m\u001b[1;33m)\u001b[0m\u001b[1;33m\u001b[0m\u001b[1;33m\u001b[0m\u001b[0m\n\u001b[0m\u001b[0;32m   3630\u001b[0m             \u001b[1;32mexcept\u001b[0m \u001b[0mKeyError\u001b[0m \u001b[1;32mas\u001b[0m \u001b[0merr\u001b[0m\u001b[1;33m:\u001b[0m\u001b[1;33m\u001b[0m\u001b[1;33m\u001b[0m\u001b[0m\n",
      "\u001b[1;32m~\\anaconda3\\lib\\site-packages\\pandas\\_libs\\index.pyx\u001b[0m in \u001b[0;36mpandas._libs.index.IndexEngine.get_loc\u001b[1;34m()\u001b[0m\n",
      "\u001b[1;32m~\\anaconda3\\lib\\site-packages\\pandas\\_libs\\index.pyx\u001b[0m in \u001b[0;36mpandas._libs.index.IndexEngine.get_loc\u001b[1;34m()\u001b[0m\n",
      "\u001b[1;32mpandas\\_libs\\hashtable_class_helper.pxi\u001b[0m in \u001b[0;36mpandas._libs.hashtable.PyObjectHashTable.get_item\u001b[1;34m()\u001b[0m\n",
      "\u001b[1;32mpandas\\_libs\\hashtable_class_helper.pxi\u001b[0m in \u001b[0;36mpandas._libs.hashtable.PyObjectHashTable.get_item\u001b[1;34m()\u001b[0m\n",
      "\u001b[1;31mKeyError\u001b[0m: 'c_p'",
      "\nThe above exception was the direct cause of the following exception:\n",
      "\u001b[1;31mKeyError\u001b[0m                                  Traceback (most recent call last)",
      "\u001b[1;32m~\\AppData\\Local\\Temp\\ipykernel_10336\\3846843191.py\u001b[0m in \u001b[0;36m<module>\u001b[1;34m\u001b[0m\n\u001b[1;32m----> 1\u001b[1;33m \u001b[0mds\u001b[0m\u001b[1;33m[\u001b[0m\u001b[1;34m\"c_p\"\u001b[0m\u001b[1;33m]\u001b[0m\u001b[1;33m.\u001b[0m\u001b[0munique\u001b[0m\u001b[1;33m(\u001b[0m\u001b[1;33m)\u001b[0m\u001b[1;33m\u001b[0m\u001b[1;33m\u001b[0m\u001b[0m\n\u001b[0m",
      "\u001b[1;32m~\\anaconda3\\lib\\site-packages\\pandas\\core\\frame.py\u001b[0m in \u001b[0;36m__getitem__\u001b[1;34m(self, key)\u001b[0m\n\u001b[0;32m   3503\u001b[0m             \u001b[1;32mif\u001b[0m \u001b[0mself\u001b[0m\u001b[1;33m.\u001b[0m\u001b[0mcolumns\u001b[0m\u001b[1;33m.\u001b[0m\u001b[0mnlevels\u001b[0m \u001b[1;33m>\u001b[0m \u001b[1;36m1\u001b[0m\u001b[1;33m:\u001b[0m\u001b[1;33m\u001b[0m\u001b[1;33m\u001b[0m\u001b[0m\n\u001b[0;32m   3504\u001b[0m                 \u001b[1;32mreturn\u001b[0m \u001b[0mself\u001b[0m\u001b[1;33m.\u001b[0m\u001b[0m_getitem_multilevel\u001b[0m\u001b[1;33m(\u001b[0m\u001b[0mkey\u001b[0m\u001b[1;33m)\u001b[0m\u001b[1;33m\u001b[0m\u001b[1;33m\u001b[0m\u001b[0m\n\u001b[1;32m-> 3505\u001b[1;33m             \u001b[0mindexer\u001b[0m \u001b[1;33m=\u001b[0m \u001b[0mself\u001b[0m\u001b[1;33m.\u001b[0m\u001b[0mcolumns\u001b[0m\u001b[1;33m.\u001b[0m\u001b[0mget_loc\u001b[0m\u001b[1;33m(\u001b[0m\u001b[0mkey\u001b[0m\u001b[1;33m)\u001b[0m\u001b[1;33m\u001b[0m\u001b[1;33m\u001b[0m\u001b[0m\n\u001b[0m\u001b[0;32m   3506\u001b[0m             \u001b[1;32mif\u001b[0m \u001b[0mis_integer\u001b[0m\u001b[1;33m(\u001b[0m\u001b[0mindexer\u001b[0m\u001b[1;33m)\u001b[0m\u001b[1;33m:\u001b[0m\u001b[1;33m\u001b[0m\u001b[1;33m\u001b[0m\u001b[0m\n\u001b[0;32m   3507\u001b[0m                 \u001b[0mindexer\u001b[0m \u001b[1;33m=\u001b[0m \u001b[1;33m[\u001b[0m\u001b[0mindexer\u001b[0m\u001b[1;33m]\u001b[0m\u001b[1;33m\u001b[0m\u001b[1;33m\u001b[0m\u001b[0m\n",
      "\u001b[1;32m~\\anaconda3\\lib\\site-packages\\pandas\\core\\indexes\\base.py\u001b[0m in \u001b[0;36mget_loc\u001b[1;34m(self, key, method, tolerance)\u001b[0m\n\u001b[0;32m   3629\u001b[0m                 \u001b[1;32mreturn\u001b[0m \u001b[0mself\u001b[0m\u001b[1;33m.\u001b[0m\u001b[0m_engine\u001b[0m\u001b[1;33m.\u001b[0m\u001b[0mget_loc\u001b[0m\u001b[1;33m(\u001b[0m\u001b[0mcasted_key\u001b[0m\u001b[1;33m)\u001b[0m\u001b[1;33m\u001b[0m\u001b[1;33m\u001b[0m\u001b[0m\n\u001b[0;32m   3630\u001b[0m             \u001b[1;32mexcept\u001b[0m \u001b[0mKeyError\u001b[0m \u001b[1;32mas\u001b[0m \u001b[0merr\u001b[0m\u001b[1;33m:\u001b[0m\u001b[1;33m\u001b[0m\u001b[1;33m\u001b[0m\u001b[0m\n\u001b[1;32m-> 3631\u001b[1;33m                 \u001b[1;32mraise\u001b[0m \u001b[0mKeyError\u001b[0m\u001b[1;33m(\u001b[0m\u001b[0mkey\u001b[0m\u001b[1;33m)\u001b[0m \u001b[1;32mfrom\u001b[0m \u001b[0merr\u001b[0m\u001b[1;33m\u001b[0m\u001b[1;33m\u001b[0m\u001b[0m\n\u001b[0m\u001b[0;32m   3632\u001b[0m             \u001b[1;32mexcept\u001b[0m \u001b[0mTypeError\u001b[0m\u001b[1;33m:\u001b[0m\u001b[1;33m\u001b[0m\u001b[1;33m\u001b[0m\u001b[0m\n\u001b[0;32m   3633\u001b[0m                 \u001b[1;31m# If we have a listlike key, _check_indexing_error will raise\u001b[0m\u001b[1;33m\u001b[0m\u001b[1;33m\u001b[0m\u001b[0m\n",
      "\u001b[1;31mKeyError\u001b[0m: 'c_p'"
     ]
    }
   ],
   "source": [
    "ds[\"c_p\"].unique()\n"
   ]
  },
  {
   "cell_type": "code",
   "execution_count": null,
   "id": "ccb89a84",
   "metadata": {},
   "outputs": [],
   "source": [
    "sns.barplot(ds[\"c_p\"],y)\n"
   ]
  },
  {
   "cell_type": "code",
   "execution_count": null,
   "id": "ac1bbc2d",
   "metadata": {},
   "outputs": [],
   "source": [
    "dataset[\"fbs\"].describe()\n"
   ]
  },
  {
   "cell_type": "code",
   "execution_count": null,
   "id": "9cbe7e32",
   "metadata": {},
   "outputs": [],
   "source": [
    "dataset[\"fbs\"].unique()\n"
   ]
  },
  {
   "cell_type": "code",
   "execution_count": null,
   "id": "49e7e475",
   "metadata": {},
   "outputs": [],
   "source": [
    "sns.barplot(dataset[\"fbs\"],y)\n"
   ]
  },
  {
   "cell_type": "code",
   "execution_count": null,
   "id": "a2545024",
   "metadata": {},
   "outputs": [],
   "source": [
    "dataset[\"restecg\"].unique()\n"
   ]
  },
  {
   "cell_type": "code",
   "execution_count": null,
   "id": "d91e51d7",
   "metadata": {},
   "outputs": [],
   "source": [
    "sns.barplot(dataset[\"restecg\"],y)\n"
   ]
  },
  {
   "cell_type": "code",
   "execution_count": null,
   "id": "802b9a2d",
   "metadata": {},
   "outputs": [],
   "source": [
    "dataset[\"exang\"].unique()\n"
   ]
  },
  {
   "cell_type": "code",
   "execution_count": null,
   "id": "b5abadc5",
   "metadata": {},
   "outputs": [],
   "source": [
    "sns.barplot(dataset[\"exang\"],y)\n"
   ]
  },
  {
   "cell_type": "code",
   "execution_count": null,
   "id": "e05818ef",
   "metadata": {},
   "outputs": [],
   "source": [
    "dataset[\"slope\"].unique()"
   ]
  },
  {
   "cell_type": "code",
   "execution_count": null,
   "id": "ed78e50d",
   "metadata": {},
   "outputs": [],
   "source": [
    "sns.barplot(dataset[\"slope\"],y)"
   ]
  },
  {
   "cell_type": "code",
   "execution_count": 91,
   "id": "35c101b4",
   "metadata": {},
   "outputs": [
    {
     "data": {
      "text/plain": [
       "array([0, 2, 1, 3, 4], dtype=int64)"
      ]
     },
     "execution_count": 91,
     "metadata": {},
     "output_type": "execute_result"
    }
   ],
   "source": [
    "dataset[\"ca\"].unique()"
   ]
  },
  {
   "cell_type": "code",
   "execution_count": 92,
   "id": "d98cb914",
   "metadata": {},
   "outputs": [
    {
     "data": {
      "text/plain": [
       "<AxesSubplot:xlabel='ca', ylabel='count'>"
      ]
     },
     "execution_count": 92,
     "metadata": {},
     "output_type": "execute_result"
    },
    {
     "data": {
      "image/png": "[encoded data removed]",
      "text/plain": [
       "<Figure size 1500x800 with 1 Axes>"
      ]
     },
     "metadata": {},
     "output_type": "display_data"
    }
   ],
   "source": [
    "sns.countplot(dataset[\"ca\"])"
   ]
  },
  {
   "cell_type": "code",
   "execution_count": 93,
   "id": "22131778",
   "metadata": {},
   "outputs": [
    {
     "data": {
      "text/plain": [
       "<AxesSubplot:xlabel='ca', ylabel='target'>"
      ]
     },
     "execution_count": 93,
     "metadata": {},
     "output_type": "execute_result"
    },
    {
     "data": {
      "image/png": "[encoded data removed]",
      "text/plain": [
       "<Figure size 1500x800 with 1 Axes>"
      ]
     },
     "metadata": {},
     "output_type": "display_data"
    }
   ],
   "source": [
    "sns.barplot(dataset[\"ca\"],y)"
   ]
  },
  {
   "cell_type": "code",
   "execution_count": 94,
   "id": "9090d421",
   "metadata": {},
   "outputs": [
    {
     "data": {
      "text/plain": [
       "array([1, 2, 3, 0], dtype=int64)"
      ]
     },
     "execution_count": 94,
     "metadata": {},
     "output_type": "execute_result"
    }
   ],
   "source": [
    "dataset[\"thal\"].unique()"
   ]
  },
  {
   "cell_type": "code",
   "execution_count": 95,
   "id": "06363c38",
   "metadata": {},
   "outputs": [
    {
     "data": {
      "text/plain": [
       "<AxesSubplot:xlabel='thal', ylabel='target'>"
      ]
     },
     "execution_count": 95,
     "metadata": {},
     "output_type": "execute_result"
    },
    {
     "data": {
      "image/png": "[encoded data removed]",
      "text/plain": [
       "<Figure size 1500x800 with 1 Axes>"
      ]
     },
     "metadata": {},
     "output_type": "display_data"
    }
   ],
   "source": [
    "sns.barplot(dataset[\"thal\"],y)"
   ]
  },
  {
   "cell_type": "code",
   "execution_count": 96,
   "id": "c2c38010",
   "metadata": {},
   "outputs": [
    {
     "data": {
      "text/plain": [
       "<AxesSubplot:xlabel='thal', ylabel='Density'>"
      ]
     },
     "execution_count": 96,
     "metadata": {},
     "output_type": "execute_result"
    },
    {
     "data": {
      "image/png": "[encoded data removed]",
      "text/plain": [
       "<Figure size 1500x800 with 1 Axes>"
      ]
     },
     "metadata": {},
     "output_type": "display_data"
    }
   ],
   "source": [
    "sns.distplot(dataset[\"thal\"])"
   ]
  },
  {
   "cell_type": "code",
   "execution_count": 97,
   "id": "a97fb8f4",
   "metadata": {},
   "outputs": [],
   "source": [
    "from sklearn.model_selection import train_test_split\n",
    "\n",
    "predictors = dataset.drop(\"target\",axis=1)\n",
    "target = dataset[\"target\"]\n",
    "\n",
    "X_train,X_test,Y_train,Y_test = train_test_split(predictors,target,test_size=0.20,random_state=0)"
   ]
  },
  {
   "cell_type": "code",
   "execution_count": 98,
   "id": "969fda9a",
   "metadata": {},
   "outputs": [
    {
     "data": {
      "text/plain": [
       "(242, 13)"
      ]
     },
     "execution_count": 98,
     "metadata": {},
     "output_type": "execute_result"
    }
   ],
   "source": [
    "X_train.shape"
   ]
  },
  {
   "cell_type": "code",
   "execution_count": 99,
   "id": "ff00fda8",
   "metadata": {},
   "outputs": [
    {
     "data": {
      "text/plain": [
       "(61, 13)"
      ]
     },
     "execution_count": 99,
     "metadata": {},
     "output_type": "execute_result"
    }
   ],
   "source": [
    "X_test.shape"
   ]
  },
  {
   "cell_type": "code",
   "execution_count": 100,
   "id": "2cc0e645",
   "metadata": {},
   "outputs": [
    {
     "data": {
      "text/plain": [
       "(242,)"
      ]
     },
     "execution_count": 100,
     "metadata": {},
     "output_type": "execute_result"
    }
   ],
   "source": [
    "Y_train.shape"
   ]
  },
  {
   "cell_type": "code",
   "execution_count": 101,
   "id": "a4273d4e",
   "metadata": {},
   "outputs": [
    {
     "data": {
      "text/plain": [
       "(61,)"
      ]
     },
     "execution_count": 101,
     "metadata": {},
     "output_type": "execute_result"
    }
   ],
   "source": [
    "Y_test.shape"
   ]
  },
  {
   "cell_type": "code",
   "execution_count": 102,
   "id": "1990af78",
   "metadata": {},
   "outputs": [],
   "source": [
    "from sklearn.metrics import accuracy_score"
   ]
  },
  {
   "cell_type": "code",
   "execution_count": 103,
   "id": "a9ec3730",
   "metadata": {},
   "outputs": [],
   "source": [
    "from sklearn.linear_model import LogisticRegression\n",
    "\n",
    "lr = LogisticRegression()\n",
    "\n",
    "lr.fit(X_train,Y_train)\n",
    "\n",
    "Y_pred_lr = lr.predict(X_test)"
   ]
  },
  {
   "cell_type": "code",
   "execution_count": 104,
   "id": "270ff01d",
   "metadata": {},
   "outputs": [
    {
     "data": {
      "text/plain": [
       "(61,)"
      ]
     },
     "execution_count": 104,
     "metadata": {},
     "output_type": "execute_result"
    }
   ],
   "source": [
    "Y_pred_lr.shape"
   ]
  },
  {
   "cell_type": "code",
   "execution_count": 105,
   "id": "24c7d52f",
   "metadata": {},
   "outputs": [
    {
     "name": "stdout",
     "output_type": "stream",
     "text": [
      "The accuracy score achieved using Logistic Regression is: 85.25 %\n"
     ]
    }
   ],
   "source": [
    "score_lr = round(accuracy_score(Y_pred_lr,Y_test)*100,2)\n",
    "\n",
    "print(\"The accuracy score achieved using Logistic Regression is: \"+str(score_lr)+\" %\")"
   ]
  },
  {
   "cell_type": "code",
   "execution_count": 46,
   "id": "202f4ff0",
   "metadata": {},
   "outputs": [],
   "source": [
    "from sklearn.naive_bayes import GaussianNB\n",
    "\n",
    "nb = GaussianNB()\n",
    "\n",
    "nb.fit(X_train,Y_train)\n",
    "\n",
    "Y_pred_nb = nb.predict(X_test)"
   ]
  },
  {
   "cell_type": "code",
   "execution_count": 47,
   "id": "ac5dd724",
   "metadata": {},
   "outputs": [
    {
     "data": {
      "text/plain": [
       "(61,)"
      ]
     },
     "execution_count": 47,
     "metadata": {},
     "output_type": "execute_result"
    }
   ],
   "source": [
    "Y_pred_nb.shape"
   ]
  },
  {
   "cell_type": "code",
   "execution_count": 48,
   "id": "3b2d06be",
   "metadata": {},
   "outputs": [
    {
     "name": "stdout",
     "output_type": "stream",
     "text": [
      "The accuracy score achieved using Naive Bayes is: 85.25 %\n"
     ]
    }
   ],
   "source": [
    "score_nb = round(accuracy_score(Y_pred_nb,Y_test)*100,2)\n",
    "\n",
    "print(\"The accuracy score achieved using Naive Bayes is: \"+str(score_nb)+\" %\")"
   ]
  },
  {
   "cell_type": "code",
   "execution_count": 49,
   "id": "4121af6d",
   "metadata": {},
   "outputs": [],
   "source": [
    "from sklearn import svm\n",
    "\n",
    "sv = svm.SVC(kernel='linear')\n",
    "\n",
    "sv.fit(X_train, Y_train)\n",
    "\n",
    "Y_pred_svm = sv.predict(X_test)"
   ]
  },
  {
   "cell_type": "code",
   "execution_count": 50,
   "id": "f1fcdded",
   "metadata": {},
   "outputs": [
    {
     "data": {
      "text/plain": [
       "(61,)"
      ]
     },
     "execution_count": 50,
     "metadata": {},
     "output_type": "execute_result"
    }
   ],
   "source": [
    "Y_pred_svm.shape"
   ]
  },
  {
   "cell_type": "code",
   "execution_count": 51,
   "id": "c1fcf949",
   "metadata": {},
   "outputs": [
    {
     "name": "stdout",
     "output_type": "stream",
     "text": [
      "The accuracy score achieved using Linear SVM is: 81.97 %\n"
     ]
    }
   ],
   "source": [
    "score_svm = round(accuracy_score(Y_pred_svm,Y_test)*100,2)\n",
    "\n",
    "print(\"The accuracy score achieved using Linear SVM is: \"+str(score_svm)+\" %\")"
   ]
  },
  {
   "cell_type": "code",
   "execution_count": 52,
   "id": "56718d0b",
   "metadata": {},
   "outputs": [],
   "source": [
    "from sklearn.neighbors import KNeighborsClassifier\n",
    "\n",
    "knn = KNeighborsClassifier(n_neighbors=7)\n",
    "knn.fit(X_train,Y_train)\n",
    "Y_pred_knn=knn.predict(X_test)"
   ]
  },
  {
   "cell_type": "code",
   "execution_count": 53,
   "id": "5e8ca0ff",
   "metadata": {},
   "outputs": [
    {
     "data": {
      "text/plain": [
       "(61,)"
      ]
     },
     "execution_count": 53,
     "metadata": {},
     "output_type": "execute_result"
    }
   ],
   "source": [
    "Y_pred_knn.shape"
   ]
  },
  {
   "cell_type": "code",
   "execution_count": 54,
   "id": "fdd4f7b6",
   "metadata": {},
   "outputs": [
    {
     "name": "stdout",
     "output_type": "stream",
     "text": [
      "The accuracy score achieved using KNN is: 67.21 %\n"
     ]
    }
   ],
   "source": [
    "score_knn = round(accuracy_score(Y_pred_knn,Y_test)*100,2)\n",
    "\n",
    "print(\"The accuracy score achieved using KNN is: \"+str(score_knn)+\" %\")"
   ]
  },
  {
   "cell_type": "code",
   "execution_count": 55,
   "id": "1b1e87d1",
   "metadata": {},
   "outputs": [],
   "source": [
    "from sklearn.tree import DecisionTreeClassifier\n",
    "\n",
    "max_accuracy = 0\n",
    "\n",
    "\n",
    "for x in range(200):\n",
    "    dt = DecisionTreeClassifier(random_state=x)\n",
    "    dt.fit(X_train,Y_train)\n",
    "    Y_pred_dt = dt.predict(X_test)\n",
    "    current_accuracy = round(accuracy_score(Y_pred_dt,Y_test)*100,2)\n",
    "    if(current_accuracy>max_accuracy):\n",
    "        max_accuracy = current_accuracy\n",
    "        best_x = x\n",
    "        \n",
    "#print(max_accuracy)\n",
    "#print(best_x)\n",
    "\n",
    "\n",
    "dt = DecisionTreeClassifier(random_state=best_x)\n",
    "dt.fit(X_train,Y_train)\n",
    "Y_pred_dt = dt.predict(X_test)"
   ]
  },
  {
   "cell_type": "code",
   "execution_count": 56,
   "id": "f41ffb77",
   "metadata": {},
   "outputs": [
    {
     "name": "stdout",
     "output_type": "stream",
     "text": [
      "(61,)\n"
     ]
    }
   ],
   "source": [
    "print(Y_pred_dt.shape)"
   ]
  },
  {
   "cell_type": "code",
   "execution_count": 57,
   "id": "fd6b15f5",
   "metadata": {},
   "outputs": [
    {
     "name": "stdout",
     "output_type": "stream",
     "text": [
      "The accuracy score achieved using Decision Tree is: 81.97 %\n"
     ]
    }
   ],
   "source": [
    "score_dt = round(accuracy_score(Y_pred_dt,Y_test)*100,2)\n",
    "\n",
    "print(\"The accuracy score achieved using Decision Tree is: \"+str(score_dt)+\" %\")"
   ]
  },
  {
   "cell_type": "code",
   "execution_count": 58,
   "id": "10826dec",
   "metadata": {},
   "outputs": [],
   "source": [
    "from sklearn.ensemble import RandomForestClassifier\n",
    "\n",
    "max_accuracy = 0\n",
    "\n",
    "\n",
    "for x in range(2000):\n",
    "    rf = RandomForestClassifier(random_state=x)\n",
    "    rf.fit(X_train,Y_train)\n",
    "    Y_pred_rf = rf.predict(X_test)\n",
    "    current_accuracy = round(accuracy_score(Y_pred_rf,Y_test)*100,2)\n",
    "    if(current_accuracy>max_accuracy):\n",
    "        max_accuracy = current_accuracy\n",
    "        best_x = x\n",
    "        \n",
    "#print(max_accuracy)\n",
    "#print(best_x)\n",
    "\n",
    "rf = RandomForestClassifier(random_state=best_x)\n",
    "rf.fit(X_train,Y_train)\n",
    "Y_pred_rf = rf.predict(X_test)"
   ]
  },
  {
   "cell_type": "code",
   "execution_count": 60,
   "id": "22057d24",
   "metadata": {},
   "outputs": [
    {
     "data": {
      "text/plain": [
       "(61,)"
      ]
     },
     "execution_count": 60,
     "metadata": {},
     "output_type": "execute_result"
    }
   ],
   "source": [
    "Y_pred_rf.shape"
   ]
  },
  {
   "cell_type": "code",
   "execution_count": 61,
   "id": "a6e7f3b1",
   "metadata": {},
   "outputs": [
    {
     "name": "stdout",
     "output_type": "stream",
     "text": [
      "The accuracy score achieved using Decision Tree is: 90.16 %\n"
     ]
    }
   ],
   "source": [
    "score_rf = round(accuracy_score(Y_pred_rf,Y_test)*100,2)\n",
    "\n",
    "print(\"The accuracy score achieved using Decision Tree is: \"+str(score_rf)+\" %\")"
   ]
  },
  {
   "cell_type": "code",
   "execution_count": 62,
   "id": "86c9270a",
   "metadata": {},
   "outputs": [
    {
     "name": "stdout",
     "output_type": "stream",
     "text": [
      "[22:10:41] WARNING: ..\\src\\learner.cc:1115: Starting in XGBoost 1.3.0, the default evaluation metric used with the objective 'binary:logistic' was changed from 'error' to 'logloss'. Explicitly set eval_metric if you'd like to restore the old behavior.\n"
     ]
    }
   ],
   "source": [
    "import xgboost as xgb\n",
    "\n",
    "xgb_model = xgb.XGBClassifier(objective=\"binary:logistic\", random_state=42)\n",
    "xgb_model.fit(X_train, Y_train)\n",
    "\n",
    "Y_pred_xgb = xgb_model.predict(X_test)"
   ]
  },
  {
   "cell_type": "code",
   "execution_count": 63,
   "id": "2d4a303f",
   "metadata": {},
   "outputs": [
    {
     "data": {
      "text/plain": [
       "(61,)"
      ]
     },
     "execution_count": 63,
     "metadata": {},
     "output_type": "execute_result"
    }
   ],
   "source": [
    "Y_pred_xgb.shape"
   ]
  },
  {
   "cell_type": "code",
   "execution_count": 64,
   "id": "32b0edfe",
   "metadata": {},
   "outputs": [
    {
     "name": "stdout",
     "output_type": "stream",
     "text": [
      "The accuracy score achieved using XGBoost is: 78.69 %\n"
     ]
    }
   ],
   "source": [
    "score_xgb = round(accuracy_score(Y_pred_xgb,Y_test)*100,2)\n",
    "\n",
    "print(\"The accuracy score achieved using XGBoost is: \"+str(score_xgb)+\" %\")"
   ]
  },
  {
   "cell_type": "code",
   "execution_count": 65,
   "id": "b039e2b4",
   "metadata": {},
   "outputs": [],
   "source": [
    "from keras.models import Sequential\n",
    "from keras.layers import Dense"
   ]
  },
  {
   "cell_type": "code",
   "execution_count": 66,
   "id": "1ee2d1f9",
   "metadata": {},
   "outputs": [],
   "source": [
    "model = Sequential()\n",
    "model.add(Dense(11,activation='relu',input_dim=13))\n",
    "model.add(Dense(1,activation='sigmoid'))\n",
    "\n",
    "model.compile(loss='binary_crossentropy',optimizer='adam',metrics=['accuracy'])"
   ]
  },
  {
   "cell_type": "code",
   "execution_count": 67,
   "id": "842cdbdc",
   "metadata": {},
   "outputs": [
    {
     "name": "stdout",
     "output_type": "stream",
     "text": [
      "Epoch 1/300\n",
      "8/8 [==============================] - 2s 7ms/step - loss: 54.3530 - accuracy: 0.5413\n",
      "Epoch 2/300\n",
      "8/8 [==============================] - 0s 4ms/step - loss: 49.1576 - accuracy: 0.5413\n",
      "Epoch 3/300\n",
      "8/8 [==============================] - 0s 5ms/step - loss: 43.9945 - accuracy: 0.5413\n",
      "Epoch 4/300\n",
      "8/8 [==============================] - 0s 5ms/step - loss: 38.9783 - accuracy: 0.5413\n",
      "Epoch 5/300\n",
      "8/8 [==============================] - 0s 5ms/step - loss: 34.0908 - accuracy: 0.5413\n",
      "Epoch 6/300\n",
      "8/8 [==============================] - 0s 5ms/step - loss: 29.3188 - accuracy: 0.5372\n",
      "Epoch 7/300\n",
      "8/8 [==============================] - 0s 5ms/step - loss: 24.6417 - accuracy: 0.5207\n",
      "Epoch 8/300\n",
      "8/8 [==============================] - 0s 4ms/step - loss: 20.1268 - accuracy: 0.5041\n",
      "Epoch 9/300\n",
      "8/8 [==============================] - 0s 5ms/step - loss: 16.2180 - accuracy: 0.4835\n",
      "Epoch 10/300\n",
      "8/8 [==============================] - 0s 5ms/step - loss: 13.7296 - accuracy: 0.3926\n",
      "Epoch 11/300\n",
      "8/8 [==============================] - 0s 5ms/step - loss: 11.9078 - accuracy: 0.3512\n",
      "Epoch 12/300\n",
      "8/8 [==============================] - 0s 5ms/step - loss: 11.3549 - accuracy: 0.3471\n",
      "Epoch 13/300\n",
      "8/8 [==============================] - 0s 4ms/step - loss: 11.0057 - accuracy: 0.3554\n",
      "Epoch 14/300\n",
      "8/8 [==============================] - 0s 4ms/step - loss: 10.8491 - accuracy: 0.3636\n",
      "Epoch 15/300\n",
      "8/8 [==============================] - 0s 4ms/step - loss: 10.6990 - accuracy: 0.3595\n",
      "Epoch 16/300\n",
      "8/8 [==============================] - 0s 4ms/step - loss: 10.4451 - accuracy: 0.3719\n",
      "Epoch 17/300\n",
      "8/8 [==============================] - 0s 4ms/step - loss: 10.2267 - accuracy: 0.3678\n",
      "Epoch 18/300\n",
      "8/8 [==============================] - 0s 4ms/step - loss: 10.0669 - accuracy: 0.3636\n",
      "Epoch 19/300\n",
      "8/8 [==============================] - 0s 4ms/step - loss: 9.8406 - accuracy: 0.3595\n",
      "Epoch 20/300\n",
      "8/8 [==============================] - 0s 4ms/step - loss: 9.6410 - accuracy: 0.3595\n",
      "Epoch 21/300\n",
      "8/8 [==============================] - 0s 4ms/step - loss: 9.4246 - accuracy: 0.3719\n",
      "Epoch 22/300\n",
      "8/8 [==============================] - 0s 4ms/step - loss: 9.2182 - accuracy: 0.3719\n",
      "Epoch 23/300\n",
      "8/8 [==============================] - 0s 4ms/step - loss: 9.0027 - accuracy: 0.3719\n",
      "Epoch 24/300\n",
      "8/8 [==============================] - 0s 5ms/step - loss: 8.7672 - accuracy: 0.3719\n",
      "Epoch 25/300\n",
      "8/8 [==============================] - 0s 5ms/step - loss: 8.5319 - accuracy: 0.3636\n",
      "Epoch 26/300\n",
      "8/8 [==============================] - 0s 5ms/step - loss: 8.3233 - accuracy: 0.3760\n",
      "Epoch 27/300\n",
      "8/8 [==============================] - 0s 5ms/step - loss: 8.0651 - accuracy: 0.3760\n",
      "Epoch 28/300\n",
      "8/8 [==============================] - 0s 4ms/step - loss: 7.8182 - accuracy: 0.3719\n",
      "Epoch 29/300\n",
      "8/8 [==============================] - 0s 4ms/step - loss: 7.5740 - accuracy: 0.3719\n",
      "Epoch 30/300\n",
      "8/8 [==============================] - 0s 6ms/step - loss: 7.3207 - accuracy: 0.3760\n",
      "Epoch 31/300\n",
      "8/8 [==============================] - 0s 5ms/step - loss: 7.0576 - accuracy: 0.3760\n",
      "Epoch 32/300\n",
      "8/8 [==============================] - 0s 5ms/step - loss: 6.8033 - accuracy: 0.3802\n",
      "Epoch 33/300\n",
      "8/8 [==============================] - 0s 8ms/step - loss: 6.5369 - accuracy: 0.3719\n",
      "Epoch 34/300\n",
      "8/8 [==============================] - 0s 7ms/step - loss: 6.3340 - accuracy: 0.3843\n",
      "Epoch 35/300\n",
      "8/8 [==============================] - 0s 6ms/step - loss: 5.9925 - accuracy: 0.3843\n",
      "Epoch 36/300\n",
      "8/8 [==============================] - 0s 5ms/step - loss: 5.7036 - accuracy: 0.3843\n",
      "Epoch 37/300\n",
      "8/8 [==============================] - 0s 4ms/step - loss: 5.4042 - accuracy: 0.3884\n",
      "Epoch 38/300\n",
      "8/8 [==============================] - 0s 4ms/step - loss: 5.2077 - accuracy: 0.3884\n",
      "Epoch 39/300\n",
      "8/8 [==============================] - 0s 4ms/step - loss: 4.8594 - accuracy: 0.3967\n",
      "Epoch 40/300\n",
      "8/8 [==============================] - 0s 4ms/step - loss: 4.6294 - accuracy: 0.3967\n",
      "Epoch 41/300\n",
      "8/8 [==============================] - 0s 4ms/step - loss: 4.3563 - accuracy: 0.3802\n",
      "Epoch 42/300\n",
      "8/8 [==============================] - 0s 4ms/step - loss: 4.0091 - accuracy: 0.4132\n",
      "Epoch 43/300\n",
      "8/8 [==============================] - 0s 4ms/step - loss: 3.7555 - accuracy: 0.4050\n",
      "Epoch 44/300\n",
      "8/8 [==============================] - 0s 4ms/step - loss: 3.4472 - accuracy: 0.4174\n",
      "Epoch 45/300\n",
      "8/8 [==============================] - 0s 4ms/step - loss: 3.1542 - accuracy: 0.4298\n",
      "Epoch 46/300\n",
      "8/8 [==============================] - 0s 4ms/step - loss: 2.8760 - accuracy: 0.4339\n",
      "Epoch 47/300\n",
      "8/8 [==============================] - 0s 4ms/step - loss: 2.6090 - accuracy: 0.4339\n",
      "Epoch 48/300\n",
      "8/8 [==============================] - 0s 5ms/step - loss: 2.3378 - accuracy: 0.4504\n",
      "Epoch 49/300\n",
      "8/8 [==============================] - 0s 6ms/step - loss: 2.0842 - accuracy: 0.4463\n",
      "Epoch 50/300\n",
      "8/8 [==============================] - 0s 5ms/step - loss: 1.8493 - accuracy: 0.4380\n",
      "Epoch 51/300\n",
      "8/8 [==============================] - 0s 5ms/step - loss: 1.6768 - accuracy: 0.4669\n",
      "Epoch 52/300\n",
      "8/8 [==============================] - 0s 4ms/step - loss: 1.4190 - accuracy: 0.4959\n",
      "Epoch 53/300\n",
      "8/8 [==============================] - 0s 5ms/step - loss: 1.2784 - accuracy: 0.5165\n",
      "Epoch 54/300\n",
      "8/8 [==============================] - 0s 5ms/step - loss: 1.1246 - accuracy: 0.5579\n",
      "Epoch 55/300\n",
      "8/8 [==============================] - 0s 4ms/step - loss: 1.0100 - accuracy: 0.5826\n",
      "Epoch 56/300\n",
      "8/8 [==============================] - 0s 4ms/step - loss: 0.8956 - accuracy: 0.5992\n",
      "Epoch 57/300\n",
      "8/8 [==============================] - 0s 4ms/step - loss: 0.8263 - accuracy: 0.6488\n",
      "Epoch 58/300\n",
      "8/8 [==============================] - 0s 4ms/step - loss: 0.7591 - accuracy: 0.6653\n",
      "Epoch 59/300\n",
      "8/8 [==============================] - 0s 3ms/step - loss: 0.7275 - accuracy: 0.6736\n",
      "Epoch 60/300\n",
      "8/8 [==============================] - 0s 3ms/step - loss: 0.7089 - accuracy: 0.7107\n",
      "Epoch 61/300\n",
      "8/8 [==============================] - 0s 3ms/step - loss: 0.6605 - accuracy: 0.7149\n",
      "Epoch 62/300\n",
      "8/8 [==============================] - 0s 4ms/step - loss: 0.6387 - accuracy: 0.7190\n",
      "Epoch 63/300\n",
      "8/8 [==============================] - 0s 4ms/step - loss: 0.6099 - accuracy: 0.7273\n",
      "Epoch 64/300\n",
      "8/8 [==============================] - 0s 4ms/step - loss: 0.5824 - accuracy: 0.7190\n",
      "Epoch 65/300\n",
      "8/8 [==============================] - 0s 4ms/step - loss: 0.5654 - accuracy: 0.7438\n",
      "Epoch 66/300\n",
      "8/8 [==============================] - 0s 4ms/step - loss: 0.5466 - accuracy: 0.7479\n",
      "Epoch 67/300\n",
      "8/8 [==============================] - 0s 4ms/step - loss: 0.5446 - accuracy: 0.7397\n",
      "Epoch 68/300\n",
      "8/8 [==============================] - 0s 4ms/step - loss: 0.5120 - accuracy: 0.7893\n",
      "Epoch 69/300\n",
      "8/8 [==============================] - 0s 4ms/step - loss: 0.5089 - accuracy: 0.7769\n",
      "Epoch 70/300\n",
      "8/8 [==============================] - 0s 4ms/step - loss: 0.4978 - accuracy: 0.7686\n",
      "Epoch 71/300\n",
      "8/8 [==============================] - 0s 6ms/step - loss: 0.4885 - accuracy: 0.7727\n",
      "Epoch 72/300\n",
      "8/8 [==============================] - 0s 10ms/step - loss: 0.4887 - accuracy: 0.7810\n",
      "Epoch 73/300\n",
      "8/8 [==============================] - 0s 6ms/step - loss: 0.4779 - accuracy: 0.7893\n",
      "Epoch 74/300\n",
      "8/8 [==============================] - 0s 5ms/step - loss: 0.4818 - accuracy: 0.7975\n",
      "Epoch 75/300\n",
      "8/8 [==============================] - 0s 6ms/step - loss: 0.4761 - accuracy: 0.7851\n",
      "Epoch 76/300\n",
      "8/8 [==============================] - 0s 5ms/step - loss: 0.4722 - accuracy: 0.7975\n",
      "Epoch 77/300\n",
      "8/8 [==============================] - 0s 6ms/step - loss: 0.4790 - accuracy: 0.7727\n",
      "Epoch 78/300\n",
      "8/8 [==============================] - 0s 5ms/step - loss: 0.4678 - accuracy: 0.7934\n",
      "Epoch 79/300\n",
      "8/8 [==============================] - 0s 5ms/step - loss: 0.4600 - accuracy: 0.8140\n",
      "Epoch 80/300\n",
      "8/8 [==============================] - 0s 5ms/step - loss: 0.4577 - accuracy: 0.7975\n",
      "Epoch 81/300\n",
      "8/8 [==============================] - 0s 4ms/step - loss: 0.4532 - accuracy: 0.7975\n",
      "Epoch 82/300\n",
      "8/8 [==============================] - 0s 5ms/step - loss: 0.4616 - accuracy: 0.8099\n",
      "Epoch 83/300\n",
      "8/8 [==============================] - 0s 4ms/step - loss: 0.4514 - accuracy: 0.8058\n",
      "Epoch 84/300\n"
     ]
    },
    {
     "name": "stdout",
     "output_type": "stream",
     "text": [
      "8/8 [==============================] - 0s 5ms/step - loss: 0.4501 - accuracy: 0.8099\n",
      "Epoch 85/300\n",
      "8/8 [==============================] - 0s 5ms/step - loss: 0.4454 - accuracy: 0.8017\n",
      "Epoch 86/300\n",
      "8/8 [==============================] - 0s 5ms/step - loss: 0.4425 - accuracy: 0.8140\n",
      "Epoch 87/300\n",
      "8/8 [==============================] - 0s 4ms/step - loss: 0.4403 - accuracy: 0.8140\n",
      "Epoch 88/300\n",
      "8/8 [==============================] - 0s 4ms/step - loss: 0.4481 - accuracy: 0.7934\n",
      "Epoch 89/300\n",
      "8/8 [==============================] - 0s 4ms/step - loss: 0.4436 - accuracy: 0.8182\n",
      "Epoch 90/300\n",
      "8/8 [==============================] - 0s 5ms/step - loss: 0.4464 - accuracy: 0.8264\n",
      "Epoch 91/300\n",
      "8/8 [==============================] - 0s 12ms/step - loss: 0.4440 - accuracy: 0.8058\n",
      "Epoch 92/300\n",
      "8/8 [==============================] - 0s 7ms/step - loss: 0.4290 - accuracy: 0.8140\n",
      "Epoch 93/300\n",
      "8/8 [==============================] - 0s 5ms/step - loss: 0.4350 - accuracy: 0.8058\n",
      "Epoch 94/300\n",
      "8/8 [==============================] - 0s 9ms/step - loss: 0.4427 - accuracy: 0.8099\n",
      "Epoch 95/300\n",
      "8/8 [==============================] - 0s 6ms/step - loss: 0.4400 - accuracy: 0.8306\n",
      "Epoch 96/300\n",
      "8/8 [==============================] - 0s 6ms/step - loss: 0.4744 - accuracy: 0.7810\n",
      "Epoch 97/300\n",
      "8/8 [==============================] - 0s 6ms/step - loss: 0.5371 - accuracy: 0.7686\n",
      "Epoch 98/300\n",
      "8/8 [==============================] - 0s 5ms/step - loss: 0.4671 - accuracy: 0.7686\n",
      "Epoch 99/300\n",
      "8/8 [==============================] - 0s 4ms/step - loss: 0.4841 - accuracy: 0.7727\n",
      "Epoch 100/300\n",
      "8/8 [==============================] - 0s 5ms/step - loss: 0.4438 - accuracy: 0.7934\n",
      "Epoch 101/300\n",
      "8/8 [==============================] - 0s 5ms/step - loss: 0.4294 - accuracy: 0.8140\n",
      "Epoch 102/300\n",
      "8/8 [==============================] - 0s 5ms/step - loss: 0.4279 - accuracy: 0.8223\n",
      "Epoch 103/300\n",
      "8/8 [==============================] - 0s 5ms/step - loss: 0.4331 - accuracy: 0.8140\n",
      "Epoch 104/300\n",
      "8/8 [==============================] - 0s 5ms/step - loss: 0.4288 - accuracy: 0.8058\n",
      "Epoch 105/300\n",
      "8/8 [==============================] - 0s 4ms/step - loss: 0.4149 - accuracy: 0.8347\n",
      "Epoch 106/300\n",
      "8/8 [==============================] - 0s 4ms/step - loss: 0.4165 - accuracy: 0.8182\n",
      "Epoch 107/300\n",
      "8/8 [==============================] - 0s 5ms/step - loss: 0.4203 - accuracy: 0.8182\n",
      "Epoch 108/300\n",
      "8/8 [==============================] - 0s 5ms/step - loss: 0.4127 - accuracy: 0.8264\n",
      "Epoch 109/300\n",
      "8/8 [==============================] - 0s 5ms/step - loss: 0.4267 - accuracy: 0.8140\n",
      "Epoch 110/300\n",
      "8/8 [==============================] - 0s 5ms/step - loss: 0.4243 - accuracy: 0.8430\n",
      "Epoch 111/300\n",
      "8/8 [==============================] - 0s 5ms/step - loss: 0.4189 - accuracy: 0.8140\n",
      "Epoch 112/300\n",
      "8/8 [==============================] - 0s 5ms/step - loss: 0.4168 - accuracy: 0.8140\n",
      "Epoch 113/300\n",
      "8/8 [==============================] - 0s 5ms/step - loss: 0.4202 - accuracy: 0.8223\n",
      "Epoch 114/300\n",
      "8/8 [==============================] - 0s 6ms/step - loss: 0.4478 - accuracy: 0.7975\n",
      "Epoch 115/300\n",
      "8/8 [==============================] - 0s 7ms/step - loss: 0.4251 - accuracy: 0.8182\n",
      "Epoch 116/300\n",
      "8/8 [==============================] - 0s 6ms/step - loss: 0.4375 - accuracy: 0.8099\n",
      "Epoch 117/300\n",
      "8/8 [==============================] - 0s 5ms/step - loss: 0.4251 - accuracy: 0.8099\n",
      "Epoch 118/300\n",
      "8/8 [==============================] - 0s 5ms/step - loss: 0.4113 - accuracy: 0.8388\n",
      "Epoch 119/300\n",
      "8/8 [==============================] - 0s 4ms/step - loss: 0.4074 - accuracy: 0.8306\n",
      "Epoch 120/300\n",
      "8/8 [==============================] - 0s 5ms/step - loss: 0.4040 - accuracy: 0.8388\n",
      "Epoch 121/300\n",
      "8/8 [==============================] - 0s 5ms/step - loss: 0.4040 - accuracy: 0.8140\n",
      "Epoch 122/300\n",
      "8/8 [==============================] - 0s 5ms/step - loss: 0.4086 - accuracy: 0.8223\n",
      "Epoch 123/300\n",
      "8/8 [==============================] - 0s 5ms/step - loss: 0.4002 - accuracy: 0.8430\n",
      "Epoch 124/300\n",
      "8/8 [==============================] - 0s 6ms/step - loss: 0.3993 - accuracy: 0.8471\n",
      "Epoch 125/300\n",
      "8/8 [==============================] - 0s 5ms/step - loss: 0.4039 - accuracy: 0.8264\n",
      "Epoch 126/300\n",
      "8/8 [==============================] - 0s 5ms/step - loss: 0.4086 - accuracy: 0.8182\n",
      "Epoch 127/300\n",
      "8/8 [==============================] - 0s 4ms/step - loss: 0.4041 - accuracy: 0.8264\n",
      "Epoch 128/300\n",
      "8/8 [==============================] - 0s 5ms/step - loss: 0.3987 - accuracy: 0.8347\n",
      "Epoch 129/300\n",
      "8/8 [==============================] - 0s 5ms/step - loss: 0.3970 - accuracy: 0.8430\n",
      "Epoch 130/300\n",
      "8/8 [==============================] - 0s 5ms/step - loss: 0.3976 - accuracy: 0.8430\n",
      "Epoch 131/300\n",
      "8/8 [==============================] - 0s 6ms/step - loss: 0.3973 - accuracy: 0.8388\n",
      "Epoch 132/300\n",
      "8/8 [==============================] - 0s 7ms/step - loss: 0.4074 - accuracy: 0.8182\n",
      "Epoch 133/300\n",
      "8/8 [==============================] - 0s 6ms/step - loss: 0.4080 - accuracy: 0.8017\n",
      "Epoch 134/300\n",
      "8/8 [==============================] - 0s 5ms/step - loss: 0.4049 - accuracy: 0.8182\n",
      "Epoch 135/300\n",
      "8/8 [==============================] - 0s 5ms/step - loss: 0.4048 - accuracy: 0.8140\n",
      "Epoch 136/300\n",
      "8/8 [==============================] - 0s 5ms/step - loss: 0.4046 - accuracy: 0.8264\n",
      "Epoch 137/300\n",
      "8/8 [==============================] - 0s 4ms/step - loss: 0.3918 - accuracy: 0.8388\n",
      "Epoch 138/300\n",
      "8/8 [==============================] - 0s 3ms/step - loss: 0.3912 - accuracy: 0.8471\n",
      "Epoch 139/300\n",
      "8/8 [==============================] - 0s 4ms/step - loss: 0.3920 - accuracy: 0.8430\n",
      "Epoch 140/300\n",
      "8/8 [==============================] - 0s 3ms/step - loss: 0.3885 - accuracy: 0.8471\n",
      "Epoch 141/300\n",
      "8/8 [==============================] - 0s 3ms/step - loss: 0.3910 - accuracy: 0.8471\n",
      "Epoch 142/300\n",
      "8/8 [==============================] - 0s 3ms/step - loss: 0.4197 - accuracy: 0.8058\n",
      "Epoch 143/300\n",
      "8/8 [==============================] - 0s 3ms/step - loss: 0.4477 - accuracy: 0.7893\n",
      "Epoch 144/300\n",
      "8/8 [==============================] - 0s 3ms/step - loss: 0.4487 - accuracy: 0.7975\n",
      "Epoch 145/300\n",
      "8/8 [==============================] - 0s 3ms/step - loss: 0.4245 - accuracy: 0.8058\n",
      "Epoch 146/300\n",
      "8/8 [==============================] - 0s 3ms/step - loss: 0.3858 - accuracy: 0.8347\n",
      "Epoch 147/300\n",
      "8/8 [==============================] - 0s 3ms/step - loss: 0.3888 - accuracy: 0.8347\n",
      "Epoch 148/300\n",
      "8/8 [==============================] - 0s 3ms/step - loss: 0.3848 - accuracy: 0.8471\n",
      "Epoch 149/300\n",
      "8/8 [==============================] - 0s 3ms/step - loss: 0.3948 - accuracy: 0.8306\n",
      "Epoch 150/300\n",
      "8/8 [==============================] - 0s 4ms/step - loss: 0.3833 - accuracy: 0.8512\n",
      "Epoch 151/300\n",
      "8/8 [==============================] - 0s 3ms/step - loss: 0.3826 - accuracy: 0.8554\n",
      "Epoch 152/300\n",
      "8/8 [==============================] - 0s 3ms/step - loss: 0.3958 - accuracy: 0.8388\n",
      "Epoch 153/300\n",
      "8/8 [==============================] - 0s 4ms/step - loss: 0.4089 - accuracy: 0.8223\n",
      "Epoch 154/300\n",
      "8/8 [==============================] - 0s 4ms/step - loss: 0.4132 - accuracy: 0.8058\n",
      "Epoch 155/300\n",
      "8/8 [==============================] - 0s 4ms/step - loss: 0.3819 - accuracy: 0.8512\n",
      "Epoch 156/300\n",
      "8/8 [==============================] - 0s 3ms/step - loss: 0.3835 - accuracy: 0.8388\n",
      "Epoch 157/300\n",
      "8/8 [==============================] - 0s 3ms/step - loss: 0.3837 - accuracy: 0.8471\n",
      "Epoch 158/300\n",
      "8/8 [==============================] - 0s 4ms/step - loss: 0.3814 - accuracy: 0.8554\n",
      "Epoch 159/300\n",
      "8/8 [==============================] - 0s 4ms/step - loss: 0.3857 - accuracy: 0.8430\n",
      "Epoch 160/300\n",
      "8/8 [==============================] - 0s 3ms/step - loss: 0.3892 - accuracy: 0.8430\n",
      "Epoch 161/300\n",
      "8/8 [==============================] - 0s 3ms/step - loss: 0.3987 - accuracy: 0.8223\n",
      "Epoch 162/300\n",
      "8/8 [==============================] - 0s 4ms/step - loss: 0.3891 - accuracy: 0.8264\n",
      "Epoch 163/300\n",
      "8/8 [==============================] - 0s 4ms/step - loss: 0.3880 - accuracy: 0.8388\n",
      "Epoch 164/300\n",
      "8/8 [==============================] - 0s 4ms/step - loss: 0.3937 - accuracy: 0.8264\n",
      "Epoch 165/300\n",
      "8/8 [==============================] - 0s 5ms/step - loss: 0.4053 - accuracy: 0.8223\n",
      "Epoch 166/300\n",
      "8/8 [==============================] - 0s 5ms/step - loss: 0.3756 - accuracy: 0.8636\n",
      "Epoch 167/300\n"
     ]
    },
    {
     "name": "stdout",
     "output_type": "stream",
     "text": [
      "8/8 [==============================] - 0s 5ms/step - loss: 0.3838 - accuracy: 0.8512\n",
      "Epoch 168/300\n",
      "8/8 [==============================] - 0s 5ms/step - loss: 0.3827 - accuracy: 0.8471\n",
      "Epoch 169/300\n",
      "8/8 [==============================] - 0s 5ms/step - loss: 0.3773 - accuracy: 0.8554\n",
      "Epoch 170/300\n",
      "8/8 [==============================] - 0s 5ms/step - loss: 0.3840 - accuracy: 0.8554\n",
      "Epoch 171/300\n",
      "8/8 [==============================] - 0s 4ms/step - loss: 0.3765 - accuracy: 0.8512\n",
      "Epoch 172/300\n",
      "8/8 [==============================] - 0s 5ms/step - loss: 0.3856 - accuracy: 0.8595\n",
      "Epoch 173/300\n",
      "8/8 [==============================] - 0s 5ms/step - loss: 0.3879 - accuracy: 0.8182\n",
      "Epoch 174/300\n",
      "8/8 [==============================] - 0s 4ms/step - loss: 0.3793 - accuracy: 0.8306\n",
      "Epoch 175/300\n",
      "8/8 [==============================] - 0s 5ms/step - loss: 0.3801 - accuracy: 0.8471\n",
      "Epoch 176/300\n",
      "8/8 [==============================] - 0s 4ms/step - loss: 0.3776 - accuracy: 0.8388\n",
      "Epoch 177/300\n",
      "8/8 [==============================] - 0s 5ms/step - loss: 0.3797 - accuracy: 0.8471\n",
      "Epoch 178/300\n",
      "8/8 [==============================] - 0s 5ms/step - loss: 0.3738 - accuracy: 0.8388\n",
      "Epoch 179/300\n",
      "8/8 [==============================] - 0s 5ms/step - loss: 0.3806 - accuracy: 0.8554\n",
      "Epoch 180/300\n",
      "8/8 [==============================] - 0s 6ms/step - loss: 0.3798 - accuracy: 0.8512\n",
      "Epoch 181/300\n",
      "8/8 [==============================] - 0s 5ms/step - loss: 0.3725 - accuracy: 0.8554\n",
      "Epoch 182/300\n",
      "8/8 [==============================] - 0s 5ms/step - loss: 0.3752 - accuracy: 0.8636\n",
      "Epoch 183/300\n",
      "8/8 [==============================] - 0s 5ms/step - loss: 0.3891 - accuracy: 0.8223\n",
      "Epoch 184/300\n",
      "8/8 [==============================] - 0s 5ms/step - loss: 0.3969 - accuracy: 0.8264\n",
      "Epoch 185/300\n",
      "8/8 [==============================] - 0s 4ms/step - loss: 0.3739 - accuracy: 0.8636\n",
      "Epoch 186/300\n",
      "8/8 [==============================] - 0s 6ms/step - loss: 0.3723 - accuracy: 0.8595\n",
      "Epoch 187/300\n",
      "8/8 [==============================] - 0s 5ms/step - loss: 0.3739 - accuracy: 0.8512\n",
      "Epoch 188/300\n",
      "8/8 [==============================] - 0s 5ms/step - loss: 0.3762 - accuracy: 0.8512\n",
      "Epoch 189/300\n",
      "8/8 [==============================] - 0s 5ms/step - loss: 0.3746 - accuracy: 0.8636\n",
      "Epoch 190/300\n",
      "8/8 [==============================] - 0s 4ms/step - loss: 0.3827 - accuracy: 0.8347\n",
      "Epoch 191/300\n",
      "8/8 [==============================] - 0s 4ms/step - loss: 0.3997 - accuracy: 0.8099\n",
      "Epoch 192/300\n",
      "8/8 [==============================] - 0s 4ms/step - loss: 0.3828 - accuracy: 0.8347\n",
      "Epoch 193/300\n",
      "8/8 [==============================] - 0s 4ms/step - loss: 0.3891 - accuracy: 0.8430\n",
      "Epoch 194/300\n",
      "8/8 [==============================] - 0s 5ms/step - loss: 0.3682 - accuracy: 0.8678\n",
      "Epoch 195/300\n",
      "8/8 [==============================] - 0s 4ms/step - loss: 0.3725 - accuracy: 0.8554\n",
      "Epoch 196/300\n",
      "8/8 [==============================] - 0s 4ms/step - loss: 0.3718 - accuracy: 0.8719\n",
      "Epoch 197/300\n",
      "8/8 [==============================] - 0s 5ms/step - loss: 0.3737 - accuracy: 0.8512\n",
      "Epoch 198/300\n",
      "8/8 [==============================] - 0s 4ms/step - loss: 0.3706 - accuracy: 0.8595\n",
      "Epoch 199/300\n",
      "8/8 [==============================] - 0s 4ms/step - loss: 0.3712 - accuracy: 0.8595\n",
      "Epoch 200/300\n",
      "8/8 [==============================] - 0s 5ms/step - loss: 0.3758 - accuracy: 0.8512\n",
      "Epoch 201/300\n",
      "8/8 [==============================] - 0s 6ms/step - loss: 0.3780 - accuracy: 0.8347\n",
      "Epoch 202/300\n",
      "8/8 [==============================] - 0s 7ms/step - loss: 0.3692 - accuracy: 0.8636\n",
      "Epoch 203/300\n",
      "8/8 [==============================] - 0s 5ms/step - loss: 0.3718 - accuracy: 0.8471\n",
      "Epoch 204/300\n",
      "8/8 [==============================] - 0s 5ms/step - loss: 0.3707 - accuracy: 0.8471\n",
      "Epoch 205/300\n",
      "8/8 [==============================] - 0s 5ms/step - loss: 0.3631 - accuracy: 0.8719\n",
      "Epoch 206/300\n",
      "8/8 [==============================] - 0s 5ms/step - loss: 0.3668 - accuracy: 0.8512\n",
      "Epoch 207/300\n",
      "8/8 [==============================] - 0s 5ms/step - loss: 0.3911 - accuracy: 0.8223\n",
      "Epoch 208/300\n",
      "8/8 [==============================] - 0s 5ms/step - loss: 0.4056 - accuracy: 0.8182\n",
      "Epoch 209/300\n",
      "8/8 [==============================] - 0s 5ms/step - loss: 0.3853 - accuracy: 0.8264\n",
      "Epoch 210/300\n",
      "8/8 [==============================] - 0s 5ms/step - loss: 0.3802 - accuracy: 0.8140\n",
      "Epoch 211/300\n",
      "8/8 [==============================] - 0s 5ms/step - loss: 0.3690 - accuracy: 0.8512\n",
      "Epoch 212/300\n",
      "8/8 [==============================] - 0s 4ms/step - loss: 0.3696 - accuracy: 0.8678\n",
      "Epoch 213/300\n",
      "8/8 [==============================] - 0s 5ms/step - loss: 0.3660 - accuracy: 0.8595\n",
      "Epoch 214/300\n",
      "8/8 [==============================] - 0s 4ms/step - loss: 0.3777 - accuracy: 0.8430\n",
      "Epoch 215/300\n",
      "8/8 [==============================] - 0s 4ms/step - loss: 0.3814 - accuracy: 0.8223\n",
      "Epoch 216/300\n",
      "8/8 [==============================] - 0s 4ms/step - loss: 0.3942 - accuracy: 0.8388\n",
      "Epoch 217/300\n",
      "8/8 [==============================] - 0s 5ms/step - loss: 0.3790 - accuracy: 0.8264\n",
      "Epoch 218/300\n",
      "8/8 [==============================] - 0s 4ms/step - loss: 0.3802 - accuracy: 0.8306\n",
      "Epoch 219/300\n",
      "8/8 [==============================] - 0s 7ms/step - loss: 0.3653 - accuracy: 0.8595\n",
      "Epoch 220/300\n",
      "8/8 [==============================] - 0s 5ms/step - loss: 0.3682 - accuracy: 0.8636\n",
      "Epoch 221/300\n",
      "8/8 [==============================] - 0s 5ms/step - loss: 0.3738 - accuracy: 0.8636\n",
      "Epoch 222/300\n",
      "8/8 [==============================] - 0s 6ms/step - loss: 0.3720 - accuracy: 0.8388\n",
      "Epoch 223/300\n",
      "8/8 [==============================] - 0s 6ms/step - loss: 0.3969 - accuracy: 0.8264\n",
      "Epoch 224/300\n",
      "8/8 [==============================] - 0s 6ms/step - loss: 0.4014 - accuracy: 0.8223\n",
      "Epoch 225/300\n",
      "8/8 [==============================] - 0s 5ms/step - loss: 0.4089 - accuracy: 0.8347\n",
      "Epoch 226/300\n",
      "8/8 [==============================] - 0s 5ms/step - loss: 0.3775 - accuracy: 0.8430\n",
      "Epoch 227/300\n",
      "8/8 [==============================] - 0s 5ms/step - loss: 0.3692 - accuracy: 0.8471\n",
      "Epoch 228/300\n",
      "8/8 [==============================] - 0s 6ms/step - loss: 0.3745 - accuracy: 0.8430\n",
      "Epoch 229/300\n",
      "8/8 [==============================] - 0s 9ms/step - loss: 0.3778 - accuracy: 0.8595\n",
      "Epoch 230/300\n",
      "8/8 [==============================] - 0s 4ms/step - loss: 0.3838 - accuracy: 0.8347\n",
      "Epoch 231/300\n",
      "8/8 [==============================] - 0s 3ms/step - loss: 0.3682 - accuracy: 0.8388\n",
      "Epoch 232/300\n",
      "8/8 [==============================] - 0s 3ms/step - loss: 0.3739 - accuracy: 0.8430\n",
      "Epoch 233/300\n",
      "8/8 [==============================] - 0s 4ms/step - loss: 0.3696 - accuracy: 0.8430\n",
      "Epoch 234/300\n",
      "8/8 [==============================] - 0s 8ms/step - loss: 0.3800 - accuracy: 0.8388\n",
      "Epoch 235/300\n",
      "8/8 [==============================] - 0s 3ms/step - loss: 0.3648 - accuracy: 0.8388\n",
      "Epoch 236/300\n",
      "8/8 [==============================] - 0s 3ms/step - loss: 0.3738 - accuracy: 0.8471\n",
      "Epoch 237/300\n",
      "8/8 [==============================] - 0s 3ms/step - loss: 0.3676 - accuracy: 0.8471\n",
      "Epoch 238/300\n",
      "8/8 [==============================] - 0s 3ms/step - loss: 0.3740 - accuracy: 0.8388\n",
      "Epoch 239/300\n",
      "8/8 [==============================] - 0s 3ms/step - loss: 0.3735 - accuracy: 0.8512\n",
      "Epoch 240/300\n",
      "8/8 [==============================] - 0s 3ms/step - loss: 0.3882 - accuracy: 0.8430\n",
      "Epoch 241/300\n",
      "8/8 [==============================] - 0s 3ms/step - loss: 0.3805 - accuracy: 0.8388\n",
      "Epoch 242/300\n",
      "8/8 [==============================] - 0s 3ms/step - loss: 0.3634 - accuracy: 0.8636\n",
      "Epoch 243/300\n",
      "8/8 [==============================] - 0s 3ms/step - loss: 0.3612 - accuracy: 0.8554\n",
      "Epoch 244/300\n",
      "8/8 [==============================] - 0s 3ms/step - loss: 0.3686 - accuracy: 0.8430\n",
      "Epoch 245/300\n",
      "8/8 [==============================] - 0s 3ms/step - loss: 0.3616 - accuracy: 0.8471\n",
      "Epoch 246/300\n",
      "8/8 [==============================] - 0s 3ms/step - loss: 0.3649 - accuracy: 0.8512\n",
      "Epoch 247/300\n",
      "8/8 [==============================] - 0s 3ms/step - loss: 0.3884 - accuracy: 0.8140\n",
      "Epoch 248/300\n",
      "8/8 [==============================] - 0s 3ms/step - loss: 0.3716 - accuracy: 0.8471\n",
      "Epoch 249/300\n"
     ]
    },
    {
     "name": "stdout",
     "output_type": "stream",
     "text": [
      "8/8 [==============================] - 0s 3ms/step - loss: 0.3703 - accuracy: 0.8306\n",
      "Epoch 250/300\n",
      "8/8 [==============================] - 0s 3ms/step - loss: 0.3588 - accuracy: 0.8512\n",
      "Epoch 251/300\n",
      "8/8 [==============================] - 0s 3ms/step - loss: 0.3595 - accuracy: 0.8636\n",
      "Epoch 252/300\n",
      "8/8 [==============================] - 0s 3ms/step - loss: 0.3656 - accuracy: 0.8471\n",
      "Epoch 253/300\n",
      "8/8 [==============================] - 0s 3ms/step - loss: 0.3602 - accuracy: 0.8554\n",
      "Epoch 254/300\n",
      "8/8 [==============================] - 0s 4ms/step - loss: 0.3599 - accuracy: 0.8678\n",
      "Epoch 255/300\n",
      "8/8 [==============================] - 0s 5ms/step - loss: 0.3599 - accuracy: 0.8595\n",
      "Epoch 256/300\n",
      "8/8 [==============================] - 0s 5ms/step - loss: 0.3633 - accuracy: 0.8471\n",
      "Epoch 257/300\n",
      "8/8 [==============================] - 0s 5ms/step - loss: 0.3650 - accuracy: 0.8512\n",
      "Epoch 258/300\n",
      "8/8 [==============================] - 0s 5ms/step - loss: 0.3851 - accuracy: 0.8264\n",
      "Epoch 259/300\n",
      "8/8 [==============================] - 0s 4ms/step - loss: 0.4284 - accuracy: 0.7893\n",
      "Epoch 260/300\n",
      "8/8 [==============================] - 0s 4ms/step - loss: 0.3777 - accuracy: 0.8264\n",
      "Epoch 261/300\n",
      "8/8 [==============================] - 0s 4ms/step - loss: 0.3948 - accuracy: 0.8182\n",
      "Epoch 262/300\n",
      "8/8 [==============================] - 0s 4ms/step - loss: 0.3678 - accuracy: 0.8430\n",
      "Epoch 263/300\n",
      "8/8 [==============================] - 0s 4ms/step - loss: 0.3611 - accuracy: 0.8595\n",
      "Epoch 264/300\n",
      "8/8 [==============================] - 0s 3ms/step - loss: 0.3587 - accuracy: 0.8554\n",
      "Epoch 265/300\n",
      "8/8 [==============================] - 0s 3ms/step - loss: 0.3586 - accuracy: 0.8636\n",
      "Epoch 266/300\n",
      "8/8 [==============================] - 0s 3ms/step - loss: 0.3595 - accuracy: 0.8595\n",
      "Epoch 267/300\n",
      "8/8 [==============================] - 0s 3ms/step - loss: 0.3575 - accuracy: 0.8595\n",
      "Epoch 268/300\n",
      "8/8 [==============================] - 0s 3ms/step - loss: 0.3790 - accuracy: 0.8471\n",
      "Epoch 269/300\n",
      "8/8 [==============================] - 0s 4ms/step - loss: 0.3729 - accuracy: 0.8306\n",
      "Epoch 270/300\n",
      "8/8 [==============================] - 0s 4ms/step - loss: 0.3736 - accuracy: 0.8430\n",
      "Epoch 271/300\n",
      "8/8 [==============================] - 0s 5ms/step - loss: 0.3616 - accuracy: 0.8595\n",
      "Epoch 272/300\n",
      "8/8 [==============================] - 0s 4ms/step - loss: 0.4065 - accuracy: 0.8140\n",
      "Epoch 273/300\n",
      "8/8 [==============================] - 0s 4ms/step - loss: 0.3643 - accuracy: 0.8595\n",
      "Epoch 274/300\n",
      "8/8 [==============================] - 0s 4ms/step - loss: 0.3614 - accuracy: 0.8512\n",
      "Epoch 275/300\n",
      "8/8 [==============================] - 0s 4ms/step - loss: 0.3581 - accuracy: 0.8636\n",
      "Epoch 276/300\n",
      "8/8 [==============================] - 0s 4ms/step - loss: 0.3664 - accuracy: 0.8471\n",
      "Epoch 277/300\n",
      "8/8 [==============================] - 0s 4ms/step - loss: 0.3922 - accuracy: 0.8099\n",
      "Epoch 278/300\n",
      "8/8 [==============================] - 0s 5ms/step - loss: 0.3603 - accuracy: 0.8388\n",
      "Epoch 279/300\n",
      "8/8 [==============================] - 0s 5ms/step - loss: 0.3582 - accuracy: 0.8430\n",
      "Epoch 280/300\n",
      "8/8 [==============================] - 0s 5ms/step - loss: 0.3631 - accuracy: 0.8471\n",
      "Epoch 281/300\n",
      "8/8 [==============================] - 0s 4ms/step - loss: 0.3569 - accuracy: 0.8595\n",
      "Epoch 282/300\n",
      "8/8 [==============================] - 0s 5ms/step - loss: 0.3552 - accuracy: 0.8512\n",
      "Epoch 283/300\n",
      "8/8 [==============================] - 0s 5ms/step - loss: 0.3742 - accuracy: 0.8554\n",
      "Epoch 284/300\n",
      "8/8 [==============================] - 0s 3ms/step - loss: 0.3654 - accuracy: 0.8554\n",
      "Epoch 285/300\n",
      "8/8 [==============================] - 0s 3ms/step - loss: 0.3622 - accuracy: 0.8264\n",
      "Epoch 286/300\n",
      "8/8 [==============================] - 0s 3ms/step - loss: 0.3889 - accuracy: 0.8347\n",
      "Epoch 287/300\n",
      "8/8 [==============================] - 0s 3ms/step - loss: 0.3684 - accuracy: 0.8306\n",
      "Epoch 288/300\n",
      "8/8 [==============================] - 0s 3ms/step - loss: 0.3827 - accuracy: 0.8388\n",
      "Epoch 289/300\n",
      "8/8 [==============================] - 0s 3ms/step - loss: 0.3597 - accuracy: 0.8512\n",
      "Epoch 290/300\n",
      "8/8 [==============================] - 0s 4ms/step - loss: 0.3578 - accuracy: 0.8554\n",
      "Epoch 291/300\n",
      "8/8 [==============================] - 0s 5ms/step - loss: 0.3659 - accuracy: 0.8471\n",
      "Epoch 292/300\n",
      "8/8 [==============================] - 0s 4ms/step - loss: 0.3786 - accuracy: 0.8347\n",
      "Epoch 293/300\n",
      "8/8 [==============================] - 0s 5ms/step - loss: 0.3620 - accuracy: 0.8512\n",
      "Epoch 294/300\n",
      "8/8 [==============================] - 0s 4ms/step - loss: 0.3621 - accuracy: 0.8554\n",
      "Epoch 295/300\n",
      "8/8 [==============================] - 0s 5ms/step - loss: 0.3590 - accuracy: 0.8388\n",
      "Epoch 296/300\n",
      "8/8 [==============================] - 0s 5ms/step - loss: 0.3689 - accuracy: 0.8554\n",
      "Epoch 297/300\n",
      "8/8 [==============================] - 0s 5ms/step - loss: 0.3705 - accuracy: 0.8554\n",
      "Epoch 298/300\n",
      "8/8 [==============================] - 0s 5ms/step - loss: 0.3936 - accuracy: 0.8264\n",
      "Epoch 299/300\n",
      "8/8 [==============================] - 0s 5ms/step - loss: 0.4171 - accuracy: 0.8223\n",
      "Epoch 300/300\n",
      "8/8 [==============================] - 0s 4ms/step - loss: 0.3699 - accuracy: 0.8182\n"
     ]
    },
    {
     "data": {
      "text/plain": [
       "<keras.callbacks.History at 0x20699b905e0>"
      ]
     },
     "execution_count": 67,
     "metadata": {},
     "output_type": "execute_result"
    }
   ],
   "source": [
    "model.fit(X_train,Y_train,epochs=300)"
   ]
  },
  {
   "cell_type": "code",
   "execution_count": 68,
   "id": "51630d1e",
   "metadata": {},
   "outputs": [
    {
     "name": "stdout",
     "output_type": "stream",
     "text": [
      "2/2 [==============================] - 0s 5ms/step\n"
     ]
    }
   ],
   "source": [
    "Y_pred_nn = model.predict(X_test)"
   ]
  },
  {
   "cell_type": "code",
   "execution_count": 69,
   "id": "e43deb28",
   "metadata": {},
   "outputs": [
    {
     "data": {
      "text/plain": [
       "(61, 1)"
      ]
     },
     "execution_count": 69,
     "metadata": {},
     "output_type": "execute_result"
    }
   ],
   "source": [
    "Y_pred_nn.shape"
   ]
  },
  {
   "cell_type": "code",
   "execution_count": 70,
   "id": "9a0117b0",
   "metadata": {},
   "outputs": [],
   "source": [
    "rounded = [round(x[0]) for x in Y_pred_nn]\n",
    "\n",
    "Y_pred_nn = rounded"
   ]
  },
  {
   "cell_type": "code",
   "execution_count": 71,
   "id": "2e088656",
   "metadata": {},
   "outputs": [
    {
     "name": "stdout",
     "output_type": "stream",
     "text": [
      "The accuracy score achieved using Neural Network is: 85.25 %\n"
     ]
    }
   ],
   "source": [
    "score_nn = round(accuracy_score(Y_pred_nn,Y_test)*100,2)\n",
    "\n",
    "print(\"The accuracy score achieved using Neural Network is: \"+str(score_nn)+\" %\")\n"
   ]
  },
  {
   "cell_type": "code",
   "execution_count": 72,
   "id": "9d349d0f",
   "metadata": {},
   "outputs": [
    {
     "name": "stdout",
     "output_type": "stream",
     "text": [
      "The accuracy score achieved using Logistic Regression is: 85.25 %\n",
      "The accuracy score achieved using Naive Bayes is: 85.25 %\n",
      "The accuracy score achieved using Support Vector Machine is: 81.97 %\n",
      "The accuracy score achieved using K-Nearest Neighbors is: 67.21 %\n",
      "The accuracy score achieved using Decision Tree is: 81.97 %\n",
      "The accuracy score achieved using Random Forest is: 90.16 %\n",
      "The accuracy score achieved using XGBoost is: 78.69 %\n",
      "The accuracy score achieved using Neural Network is: 85.25 %\n"
     ]
    }
   ],
   "source": [
    "scores = [score_lr,score_nb,score_svm,score_knn,score_dt,score_rf,score_xgb,score_nn]\n",
    "algorithms = [\"Logistic Regression\",\"Naive Bayes\",\"Support Vector Machine\",\"K-Nearest Neighbors\",\"Decision Tree\",\"Random Forest\",\"XGBoost\",\"Neural Network\"]    \n",
    "\n",
    "for i in range(len(algorithms)):\n",
    "    print(\"The accuracy score achieved using \"+algorithms[i]+\" is: \"+str(scores[i])+\" %\")"
   ]
  },
  {
   "cell_type": "code",
   "execution_count": 73,
   "id": "0d354aa3",
   "metadata": {},
   "outputs": [
    {
     "data": {
      "text/plain": [
       "<AxesSubplot:xlabel='Algorithms', ylabel='Accuracy score'>"
      ]
     },
     "execution_count": 73,
     "metadata": {},
     "output_type": "execute_result"
    },
    {
     "data": {
      "image/png": "[encoded data removed]",
      "text/plain": [
       "<Figure size 1500x800 with 1 Axes>"
      ]
     },
     "metadata": {},
     "output_type": "display_data"
    }
   ],
   "source": [
    "sns.set(rc={'figure.figsize':(15,8)})\n",
    "plt.xlabel(\"Algorithms\")\n",
    "plt.ylabel(\"Accuracy score\")\n",
    "\n",
    "sns.barplot(algorithms,scores)"
   ]
  },
  {
   "cell_type": "code",
   "execution_count": null,
   "id": "1bfcd0d9",
   "metadata": {},
   "outputs": [],
   "source": []
  }
 ],
 "metadata": {
  "kernelspec": {
   "display_name": "Python 3 (ipykernel)",
   "language": "python",
   "name": "python3"
  },
  "language_info": {
   "codemirror_mode": {
    "name": "ipython",
    "version": 3
   },
   "file_extension": ".py",
   "mimetype": "text/x-python",
   "name": "python",
   "nbconvert_exporter": "python",
   "pygments_lexer": "ipython3",
   "version": "3.9.13"
  }
 },
 "nbformat": 4,
 "nbformat_minor": 5
}
